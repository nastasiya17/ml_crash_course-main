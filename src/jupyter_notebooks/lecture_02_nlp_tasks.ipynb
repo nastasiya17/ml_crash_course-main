{
  "nbformat": 4,
  "nbformat_minor": 0,
  "metadata": {
    "colab": {
      "provenance": [],
      "collapsed_sections": []
    },
    "kernelspec": {
      "name": "python3",
      "display_name": "Python 3"
    },
    "language_info": {
      "name": "python"
    }
  },
  "cells": [
    {
      "cell_type": "markdown",
      "source": [
        "Где брать данные\n",
        "\n",
        "Скопировать в свой гугл-драйв https://drive.google.com/drive/folders/1FMLKfNZZyFgzOhWjOiyeN3XvCsjT5-ET?usp=sharing"
      ],
      "metadata": {
        "id": "gzAchHUV1UAC"
      }
    },
    {
      "cell_type": "code",
      "source": [
        "import os\n",
        "import shutil \n",
        "\n",
        "import numpy as np\n",
        "from google.colab import drive\n",
        "\n",
        "RANDOM_SEED = 42\n",
        "np.random.seed(RANDOM_SEED)  # гарантируем воспроизводимость\n",
        "\n",
        "ROOT_DIR = '/content/drive' \n",
        "drive.mount(ROOT_DIR)\n",
        "print('Подключили диск')\n",
        "\n",
        "root_data_dir = os.path.join(ROOT_DIR, 'MyDrive', 'data')\n",
        "if not os.path.exists(root_data_dir):\n",
        "  raise RuntimeError('Отсутствует директория с данными')\n",
        "else:\n",
        "  print('Содержимое директории %s: %s' % (root_data_dir, os.listdir(root_data_dir)))"
      ],
      "metadata": {
        "colab": {
          "base_uri": "https://localhost:8080/"
        },
        "id": "Rnsz6ngY1UKK",
        "outputId": "09ffe350-41aa-479a-e01f-4d76ac72f0e4"
      },
      "execution_count": 11,
      "outputs": [
        {
          "output_type": "stream",
          "name": "stdout",
          "text": [
            "Drive already mounted at /content/drive; to attempt to forcibly remount, call drive.mount(\"/content/drive\", force_remount=True).\n",
            "Подключили диск\n",
            "Содержимое директории /content/drive/MyDrive/data: ['Uploaded_Content_with_OCR_2022_09_09.csv', 'pictures', 'models', 'captions']\n"
          ]
        }
      ]
    },
    {
      "cell_type": "code",
      "source": [
        "from IPython.display import clear_output\n",
        "\n",
        "!pip install transformers\n",
        "# !pip install git+https://github.com/openai/CLIP.git\n",
        "clear_output()\n",
        "print('Установили transformers')"
      ],
      "metadata": {
        "colab": {
          "base_uri": "https://localhost:8080/"
        },
        "id": "XdA0x1ni2AzR",
        "outputId": "48c01670-2c2e-4380-cc38-c28593c633c8"
      },
      "execution_count": 12,
      "outputs": [
        {
          "output_type": "stream",
          "name": "stdout",
          "text": [
            "Установили transformers\n"
          ]
        }
      ]
    },
    {
      "cell_type": "code",
      "source": [
        "from transformers import pipeline\n",
        "\n",
        "ner = pipeline('ner', grouped_entities=True)"
      ],
      "metadata": {
        "colab": {
          "base_uri": "https://localhost:8080/"
        },
        "id": "J_NiilIS2Mq0",
        "outputId": "bb69db30-5511-4e3a-ed88-647c4654ebbb"
      },
      "execution_count": 13,
      "outputs": [
        {
          "output_type": "stream",
          "name": "stderr",
          "text": [
            "No model was supplied, defaulted to dbmdz/bert-large-cased-finetuned-conll03-english and revision f2482bf (https://huggingface.co/dbmdz/bert-large-cased-finetuned-conll03-english).\n",
            "Using a pipeline without specifying a model name and revision in production is not recommended.\n",
            "/usr/local/lib/python3.7/dist-packages/transformers/pipelines/token_classification.py:136: UserWarning: `grouped_entities` is deprecated and will be removed in version v5.0.0, defaulted to `aggregation_strategy=\"simple\"` instead.\n",
            "  \"`grouped_entities` is deprecated and will be removed in version v5.0.0, defaulted to\"\n"
          ]
        }
      ]
    },
    {
      "cell_type": "code",
      "source": [
        "sample_text = \"\"\"SoftBank Vision Fund 2 is leading the round, a Series C, with iPod “father” and Nest co-founder Tony Fadell (by way of Future Shape), Blisce, French entrepreneur Xavier Niel, Mirabaud, Cassius and Evolution — all previous backers — also participating. (Previous investors in the company also include DeepMind co-founders Mustafa Suleyman and Demis Hassabis, notable given the company’s early focus on data science and recommendation algorithms.) Prior to this round Dice had raised around $45 million, according to PitchBook estimates.\"\"\"\n",
        "\n",
        "ner(sample_text)"
      ],
      "metadata": {
        "colab": {
          "base_uri": "https://localhost:8080/"
        },
        "id": "RRgx9PKT2iMb",
        "outputId": "27e85a92-488e-4787-b3bb-c74cc4005570"
      },
      "execution_count": 14,
      "outputs": [
        {
          "output_type": "execute_result",
          "data": {
            "text/plain": [
              "[{'entity_group': 'ORG',\n",
              "  'score': 0.9734502,\n",
              "  'word': 'SoftBank Vision Fund 2',\n",
              "  'start': 0,\n",
              "  'end': 22},\n",
              " {'entity_group': 'ORG',\n",
              "  'score': 0.96276426,\n",
              "  'word': 'iP',\n",
              "  'start': 62,\n",
              "  'end': 64},\n",
              " {'entity_group': 'ORG',\n",
              "  'score': 0.98824763,\n",
              "  'word': 'Nest',\n",
              "  'start': 80,\n",
              "  'end': 84},\n",
              " {'entity_group': 'PER',\n",
              "  'score': 0.9904026,\n",
              "  'word': 'Tony Fadell',\n",
              "  'start': 96,\n",
              "  'end': 107},\n",
              " {'entity_group': 'ORG',\n",
              "  'score': 0.9936922,\n",
              "  'word': 'Future Shape',\n",
              "  'start': 119,\n",
              "  'end': 131},\n",
              " {'entity_group': 'ORG',\n",
              "  'score': 0.8639388,\n",
              "  'word': 'Blisce',\n",
              "  'start': 134,\n",
              "  'end': 140},\n",
              " {'entity_group': 'MISC',\n",
              "  'score': 0.99727756,\n",
              "  'word': 'French',\n",
              "  'start': 142,\n",
              "  'end': 148},\n",
              " {'entity_group': 'PER',\n",
              "  'score': 0.99832183,\n",
              "  'word': 'Xavier Niel',\n",
              "  'start': 162,\n",
              "  'end': 173},\n",
              " {'entity_group': 'ORG',\n",
              "  'score': 0.9702957,\n",
              "  'word': 'Mirabaud',\n",
              "  'start': 175,\n",
              "  'end': 183},\n",
              " {'entity_group': 'ORG',\n",
              "  'score': 0.97378266,\n",
              "  'word': 'Cassius',\n",
              "  'start': 185,\n",
              "  'end': 192},\n",
              " {'entity_group': 'ORG',\n",
              "  'score': 0.9979442,\n",
              "  'word': 'Evolution',\n",
              "  'start': 197,\n",
              "  'end': 206},\n",
              " {'entity_group': 'ORG',\n",
              "  'score': 0.9943002,\n",
              "  'word': 'DeepMind',\n",
              "  'start': 300,\n",
              "  'end': 308},\n",
              " {'entity_group': 'PER',\n",
              "  'score': 0.9897262,\n",
              "  'word': 'Mustafa Suleyman',\n",
              "  'start': 321,\n",
              "  'end': 337},\n",
              " {'entity_group': 'PER',\n",
              "  'score': 0.98531306,\n",
              "  'word': 'Demis Hassabis',\n",
              "  'start': 342,\n",
              "  'end': 356},\n",
              " {'entity_group': 'ORG',\n",
              "  'score': 0.9574965,\n",
              "  'word': 'Dice',\n",
              "  'start': 466,\n",
              "  'end': 470},\n",
              " {'entity_group': 'ORG',\n",
              "  'score': 0.8703035,\n",
              "  'word': 'PitchBook',\n",
              "  'start': 515,\n",
              "  'end': 524}]"
            ]
          },
          "metadata": {},
          "execution_count": 14
        }
      ]
    },
    {
      "cell_type": "markdown",
      "source": [
        "# NLTK"
      ],
      "metadata": {
        "id": "ARsd6Gm15h6q"
      }
    },
    {
      "cell_type": "code",
      "source": [
        "nltk_data_dir = os.path.join(ROOT_DIR, 'MyDrive', 'hse_nlp_2021', 'nltk_data')\n",
        "if not os.path.exists(nltk_data_dir):\n",
        "  os.makedirs(nltk_data_dir)\n",
        "  print('Директория %s создана', nltk_data_dir)\n",
        "logs_dir = os.path.join(ROOT_DIR, 'MyDrive', 'hse_nlp_2021', 'logs')\n",
        "if not os.path.exists(logs_dir):\n",
        "  os.makedirs(logs_dir)\n",
        "print('Подготовили директорию для nltk %s' % nltk_data_dir)"
      ],
      "metadata": {
        "colab": {
          "base_uri": "https://localhost:8080/"
        },
        "id": "_6NeEI6924Cj",
        "outputId": "69ad05a1-ce3f-4ef9-fd2c-ef9b865fb0e9"
      },
      "execution_count": 15,
      "outputs": [
        {
          "output_type": "stream",
          "name": "stdout",
          "text": [
            "Подготовили директорию для nltk /content/drive/MyDrive/hse_nlp_2021/nltk_data\n"
          ]
        }
      ]
    },
    {
      "cell_type": "code",
      "source": [
        "!pip install nltk==3.6.2\n",
        "clear_output()"
      ],
      "metadata": {
        "id": "Nuz2Xugh5ln0"
      },
      "execution_count": 16,
      "outputs": []
    },
    {
      "cell_type": "code",
      "source": [
        "import nltk\n",
        "\n",
        "nltk.download('punkt', download_dir=nltk_data_dir)\n",
        "nltk.data.path.append(nltk_data_dir) # тут почему-то корневую надо указывать ¯\\_(ツ)_/¯"
      ],
      "metadata": {
        "colab": {
          "base_uri": "https://localhost:8080/"
        },
        "id": "Y2XNn0Gs5zYg",
        "outputId": "1a436dec-b19a-46c3-df4b-872672f58efd"
      },
      "execution_count": 17,
      "outputs": [
        {
          "output_type": "stream",
          "name": "stderr",
          "text": [
            "[nltk_data] Downloading package punkt to\n",
            "[nltk_data]     /content/drive/MyDrive/hse_nlp_2021/nltk_data...\n",
            "[nltk_data]   Package punkt is already up-to-date!\n"
          ]
        }
      ]
    },
    {
      "cell_type": "code",
      "source": [
        "import nltk\n",
        "\n",
        "print('== Исходный текст== \\n%s\\n\\n' % sample_text)\n",
        "\n",
        "tokenized_str = nltk.word_tokenize(sample_text)\n",
        "\n",
        "print('== Токенизированный текст==\\n%s' % tokenized_str)"
      ],
      "metadata": {
        "colab": {
          "base_uri": "https://localhost:8080/"
        },
        "id": "Eua2EaBx55tv",
        "outputId": "02256cef-1c93-4e71-a74b-628f7d11dfbc"
      },
      "execution_count": 18,
      "outputs": [
        {
          "output_type": "stream",
          "name": "stdout",
          "text": [
            "== Исходный текст== \n",
            "SoftBank Vision Fund 2 is leading the round, a Series C, with iPod “father” and Nest co-founder Tony Fadell (by way of Future Shape), Blisce, French entrepreneur Xavier Niel, Mirabaud, Cassius and Evolution — all previous backers — also participating. (Previous investors in the company also include DeepMind co-founders Mustafa Suleyman and Demis Hassabis, notable given the company’s early focus on data science and recommendation algorithms.) Prior to this round Dice had raised around $45 million, according to PitchBook estimates.\n",
            "\n",
            "\n",
            "== Токенизированный текст==\n",
            "['SoftBank', 'Vision', 'Fund', '2', 'is', 'leading', 'the', 'round', ',', 'a', 'Series', 'C', ',', 'with', 'iPod', '“', 'father', '”', 'and', 'Nest', 'co-founder', 'Tony', 'Fadell', '(', 'by', 'way', 'of', 'Future', 'Shape', ')', ',', 'Blisce', ',', 'French', 'entrepreneur', 'Xavier', 'Niel', ',', 'Mirabaud', ',', 'Cassius', 'and', 'Evolution', '—', 'all', 'previous', 'backers', '—', 'also', 'participating', '.', '(', 'Previous', 'investors', 'in', 'the', 'company', 'also', 'include', 'DeepMind', 'co-founders', 'Mustafa', 'Suleyman', 'and', 'Demis', 'Hassabis', ',', 'notable', 'given', 'the', 'company', '’', 's', 'early', 'focus', 'on', 'data', 'science', 'and', 'recommendation', 'algorithms', '.', ')', 'Prior', 'to', 'this', 'round', 'Dice', 'had', 'raised', 'around', '$', '45', 'million', ',', 'according', 'to', 'PitchBook', 'estimates', '.']\n"
          ]
        }
      ]
    },
    {
      "cell_type": "code",
      "source": [],
      "metadata": {
        "id": "jn67HIgV6EBd"
      },
      "execution_count": null,
      "outputs": []
    }
  ]
}