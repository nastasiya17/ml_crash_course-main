{
  "nbformat": 4,
  "nbformat_minor": 0,
  "metadata": {
    "colab": {
      "provenance": []
    },
    "kernelspec": {
      "name": "python3",
      "display_name": "Python 3"
    },
    "language_info": {
      "name": "python"
    },
    "widgets": {
      "application/vnd.jupyter.widget-state+json": {
        "75496051cff848ea8d983f4ba6578f3c": {
          "model_module": "@jupyter-widgets/controls",
          "model_name": "HBoxModel",
          "model_module_version": "1.5.0",
          "state": {
            "_dom_classes": [],
            "_model_module": "@jupyter-widgets/controls",
            "_model_module_version": "1.5.0",
            "_model_name": "HBoxModel",
            "_view_count": null,
            "_view_module": "@jupyter-widgets/controls",
            "_view_module_version": "1.5.0",
            "_view_name": "HBoxView",
            "box_style": "",
            "children": [
              "IPY_MODEL_3633ed7350bf4d41a6eb6a6a8a061cd9",
              "IPY_MODEL_f326c90ca6244345962e4df952e1e4fb",
              "IPY_MODEL_e0a4a360b6c7483998dc4afc04f7a603"
            ],
            "layout": "IPY_MODEL_389f11df8f274853b355f59d9f47bb20"
          }
        },
        "3633ed7350bf4d41a6eb6a6a8a061cd9": {
          "model_module": "@jupyter-widgets/controls",
          "model_name": "HTMLModel",
          "model_module_version": "1.5.0",
          "state": {
            "_dom_classes": [],
            "_model_module": "@jupyter-widgets/controls",
            "_model_module_version": "1.5.0",
            "_model_name": "HTMLModel",
            "_view_count": null,
            "_view_module": "@jupyter-widgets/controls",
            "_view_module_version": "1.5.0",
            "_view_name": "HTMLView",
            "description": "",
            "description_tooltip": null,
            "layout": "IPY_MODEL_7177609620fd4a1eaab30c7f075ccf00",
            "placeholder": "​",
            "style": "IPY_MODEL_31a0676b3787426282ab0199db7bcc10",
            "value": "100%"
          }
        },
        "f326c90ca6244345962e4df952e1e4fb": {
          "model_module": "@jupyter-widgets/controls",
          "model_name": "FloatProgressModel",
          "model_module_version": "1.5.0",
          "state": {
            "_dom_classes": [],
            "_model_module": "@jupyter-widgets/controls",
            "_model_module_version": "1.5.0",
            "_model_name": "FloatProgressModel",
            "_view_count": null,
            "_view_module": "@jupyter-widgets/controls",
            "_view_module_version": "1.5.0",
            "_view_name": "ProgressView",
            "bar_style": "success",
            "description": "",
            "description_tooltip": null,
            "layout": "IPY_MODEL_74cfce80e16d486798e59b95e0255339",
            "max": 1,
            "min": 0,
            "orientation": "horizontal",
            "style": "IPY_MODEL_0ce1e89eff014f7485dc3c4339f7d56c",
            "value": 1
          }
        },
        "e0a4a360b6c7483998dc4afc04f7a603": {
          "model_module": "@jupyter-widgets/controls",
          "model_name": "HTMLModel",
          "model_module_version": "1.5.0",
          "state": {
            "_dom_classes": [],
            "_model_module": "@jupyter-widgets/controls",
            "_model_module_version": "1.5.0",
            "_model_name": "HTMLModel",
            "_view_count": null,
            "_view_module": "@jupyter-widgets/controls",
            "_view_module_version": "1.5.0",
            "_view_name": "HTMLView",
            "description": "",
            "description_tooltip": null,
            "layout": "IPY_MODEL_33f803e57e5e45a2bccf966a4af60e77",
            "placeholder": "​",
            "style": "IPY_MODEL_00eb96e061fe47619e5ea3ffe3f9731f",
            "value": " 1/1 [00:00&lt;00:00,  2.31it/s]"
          }
        },
        "389f11df8f274853b355f59d9f47bb20": {
          "model_module": "@jupyter-widgets/base",
          "model_name": "LayoutModel",
          "model_module_version": "1.2.0",
          "state": {
            "_model_module": "@jupyter-widgets/base",
            "_model_module_version": "1.2.0",
            "_model_name": "LayoutModel",
            "_view_count": null,
            "_view_module": "@jupyter-widgets/base",
            "_view_module_version": "1.2.0",
            "_view_name": "LayoutView",
            "align_content": null,
            "align_items": null,
            "align_self": null,
            "border": null,
            "bottom": null,
            "display": null,
            "flex": null,
            "flex_flow": null,
            "grid_area": null,
            "grid_auto_columns": null,
            "grid_auto_flow": null,
            "grid_auto_rows": null,
            "grid_column": null,
            "grid_gap": null,
            "grid_row": null,
            "grid_template_areas": null,
            "grid_template_columns": null,
            "grid_template_rows": null,
            "height": null,
            "justify_content": null,
            "justify_items": null,
            "left": null,
            "margin": null,
            "max_height": null,
            "max_width": null,
            "min_height": null,
            "min_width": null,
            "object_fit": null,
            "object_position": null,
            "order": null,
            "overflow": null,
            "overflow_x": null,
            "overflow_y": null,
            "padding": null,
            "right": null,
            "top": null,
            "visibility": null,
            "width": null
          }
        },
        "7177609620fd4a1eaab30c7f075ccf00": {
          "model_module": "@jupyter-widgets/base",
          "model_name": "LayoutModel",
          "model_module_version": "1.2.0",
          "state": {
            "_model_module": "@jupyter-widgets/base",
            "_model_module_version": "1.2.0",
            "_model_name": "LayoutModel",
            "_view_count": null,
            "_view_module": "@jupyter-widgets/base",
            "_view_module_version": "1.2.0",
            "_view_name": "LayoutView",
            "align_content": null,
            "align_items": null,
            "align_self": null,
            "border": null,
            "bottom": null,
            "display": null,
            "flex": null,
            "flex_flow": null,
            "grid_area": null,
            "grid_auto_columns": null,
            "grid_auto_flow": null,
            "grid_auto_rows": null,
            "grid_column": null,
            "grid_gap": null,
            "grid_row": null,
            "grid_template_areas": null,
            "grid_template_columns": null,
            "grid_template_rows": null,
            "height": null,
            "justify_content": null,
            "justify_items": null,
            "left": null,
            "margin": null,
            "max_height": null,
            "max_width": null,
            "min_height": null,
            "min_width": null,
            "object_fit": null,
            "object_position": null,
            "order": null,
            "overflow": null,
            "overflow_x": null,
            "overflow_y": null,
            "padding": null,
            "right": null,
            "top": null,
            "visibility": null,
            "width": null
          }
        },
        "31a0676b3787426282ab0199db7bcc10": {
          "model_module": "@jupyter-widgets/controls",
          "model_name": "DescriptionStyleModel",
          "model_module_version": "1.5.0",
          "state": {
            "_model_module": "@jupyter-widgets/controls",
            "_model_module_version": "1.5.0",
            "_model_name": "DescriptionStyleModel",
            "_view_count": null,
            "_view_module": "@jupyter-widgets/base",
            "_view_module_version": "1.2.0",
            "_view_name": "StyleView",
            "description_width": ""
          }
        },
        "74cfce80e16d486798e59b95e0255339": {
          "model_module": "@jupyter-widgets/base",
          "model_name": "LayoutModel",
          "model_module_version": "1.2.0",
          "state": {
            "_model_module": "@jupyter-widgets/base",
            "_model_module_version": "1.2.0",
            "_model_name": "LayoutModel",
            "_view_count": null,
            "_view_module": "@jupyter-widgets/base",
            "_view_module_version": "1.2.0",
            "_view_name": "LayoutView",
            "align_content": null,
            "align_items": null,
            "align_self": null,
            "border": null,
            "bottom": null,
            "display": null,
            "flex": null,
            "flex_flow": null,
            "grid_area": null,
            "grid_auto_columns": null,
            "grid_auto_flow": null,
            "grid_auto_rows": null,
            "grid_column": null,
            "grid_gap": null,
            "grid_row": null,
            "grid_template_areas": null,
            "grid_template_columns": null,
            "grid_template_rows": null,
            "height": null,
            "justify_content": null,
            "justify_items": null,
            "left": null,
            "margin": null,
            "max_height": null,
            "max_width": null,
            "min_height": null,
            "min_width": null,
            "object_fit": null,
            "object_position": null,
            "order": null,
            "overflow": null,
            "overflow_x": null,
            "overflow_y": null,
            "padding": null,
            "right": null,
            "top": null,
            "visibility": null,
            "width": null
          }
        },
        "0ce1e89eff014f7485dc3c4339f7d56c": {
          "model_module": "@jupyter-widgets/controls",
          "model_name": "ProgressStyleModel",
          "model_module_version": "1.5.0",
          "state": {
            "_model_module": "@jupyter-widgets/controls",
            "_model_module_version": "1.5.0",
            "_model_name": "ProgressStyleModel",
            "_view_count": null,
            "_view_module": "@jupyter-widgets/base",
            "_view_module_version": "1.2.0",
            "_view_name": "StyleView",
            "bar_color": null,
            "description_width": ""
          }
        },
        "33f803e57e5e45a2bccf966a4af60e77": {
          "model_module": "@jupyter-widgets/base",
          "model_name": "LayoutModel",
          "model_module_version": "1.2.0",
          "state": {
            "_model_module": "@jupyter-widgets/base",
            "_model_module_version": "1.2.0",
            "_model_name": "LayoutModel",
            "_view_count": null,
            "_view_module": "@jupyter-widgets/base",
            "_view_module_version": "1.2.0",
            "_view_name": "LayoutView",
            "align_content": null,
            "align_items": null,
            "align_self": null,
            "border": null,
            "bottom": null,
            "display": null,
            "flex": null,
            "flex_flow": null,
            "grid_area": null,
            "grid_auto_columns": null,
            "grid_auto_flow": null,
            "grid_auto_rows": null,
            "grid_column": null,
            "grid_gap": null,
            "grid_row": null,
            "grid_template_areas": null,
            "grid_template_columns": null,
            "grid_template_rows": null,
            "height": null,
            "justify_content": null,
            "justify_items": null,
            "left": null,
            "margin": null,
            "max_height": null,
            "max_width": null,
            "min_height": null,
            "min_width": null,
            "object_fit": null,
            "object_position": null,
            "order": null,
            "overflow": null,
            "overflow_x": null,
            "overflow_y": null,
            "padding": null,
            "right": null,
            "top": null,
            "visibility": null,
            "width": null
          }
        },
        "00eb96e061fe47619e5ea3ffe3f9731f": {
          "model_module": "@jupyter-widgets/controls",
          "model_name": "DescriptionStyleModel",
          "model_module_version": "1.5.0",
          "state": {
            "_model_module": "@jupyter-widgets/controls",
            "_model_module_version": "1.5.0",
            "_model_name": "DescriptionStyleModel",
            "_view_count": null,
            "_view_module": "@jupyter-widgets/base",
            "_view_module_version": "1.2.0",
            "_view_name": "StyleView",
            "description_width": ""
          }
        },
        "6d3eab38b10146409ae65e593dfb7567": {
          "model_module": "@jupyter-widgets/controls",
          "model_name": "HBoxModel",
          "model_module_version": "1.5.0",
          "state": {
            "_dom_classes": [],
            "_model_module": "@jupyter-widgets/controls",
            "_model_module_version": "1.5.0",
            "_model_name": "HBoxModel",
            "_view_count": null,
            "_view_module": "@jupyter-widgets/controls",
            "_view_module_version": "1.5.0",
            "_view_name": "HBoxView",
            "box_style": "",
            "children": [
              "IPY_MODEL_5a4274e713a74306a87c6e223151d830",
              "IPY_MODEL_231a26f1a30e4938a941be3ca3dd37d6",
              "IPY_MODEL_1d596b51612248c494c0be38e7ed1ef4"
            ],
            "layout": "IPY_MODEL_722f4b85290f4432b789348fde19f848"
          }
        },
        "5a4274e713a74306a87c6e223151d830": {
          "model_module": "@jupyter-widgets/controls",
          "model_name": "HTMLModel",
          "model_module_version": "1.5.0",
          "state": {
            "_dom_classes": [],
            "_model_module": "@jupyter-widgets/controls",
            "_model_module_version": "1.5.0",
            "_model_name": "HTMLModel",
            "_view_count": null,
            "_view_module": "@jupyter-widgets/controls",
            "_view_module_version": "1.5.0",
            "_view_name": "HTMLView",
            "description": "",
            "description_tooltip": null,
            "layout": "IPY_MODEL_3472bfcb41ad465d977c8db79cd0ee69",
            "placeholder": "​",
            "style": "IPY_MODEL_b2f815d0d3ab48688cb105109d61eaf2",
            "value": "100%"
          }
        },
        "231a26f1a30e4938a941be3ca3dd37d6": {
          "model_module": "@jupyter-widgets/controls",
          "model_name": "FloatProgressModel",
          "model_module_version": "1.5.0",
          "state": {
            "_dom_classes": [],
            "_model_module": "@jupyter-widgets/controls",
            "_model_module_version": "1.5.0",
            "_model_name": "FloatProgressModel",
            "_view_count": null,
            "_view_module": "@jupyter-widgets/controls",
            "_view_module_version": "1.5.0",
            "_view_name": "ProgressView",
            "bar_style": "success",
            "description": "",
            "description_tooltip": null,
            "layout": "IPY_MODEL_090005c9b5f34573933893aeaa3139bd",
            "max": 30,
            "min": 0,
            "orientation": "horizontal",
            "style": "IPY_MODEL_b6ec0492cd0949bc87c8e624b037636d",
            "value": 30
          }
        },
        "1d596b51612248c494c0be38e7ed1ef4": {
          "model_module": "@jupyter-widgets/controls",
          "model_name": "HTMLModel",
          "model_module_version": "1.5.0",
          "state": {
            "_dom_classes": [],
            "_model_module": "@jupyter-widgets/controls",
            "_model_module_version": "1.5.0",
            "_model_name": "HTMLModel",
            "_view_count": null,
            "_view_module": "@jupyter-widgets/controls",
            "_view_module_version": "1.5.0",
            "_view_name": "HTMLView",
            "description": "",
            "description_tooltip": null,
            "layout": "IPY_MODEL_177cd5450dd4437d90ea198ef58c553c",
            "placeholder": "​",
            "style": "IPY_MODEL_6f8e0e5c38e04c0989c85086343baad4",
            "value": " 30/30 [02:54&lt;00:00,  5.21s/it]"
          }
        },
        "722f4b85290f4432b789348fde19f848": {
          "model_module": "@jupyter-widgets/base",
          "model_name": "LayoutModel",
          "model_module_version": "1.2.0",
          "state": {
            "_model_module": "@jupyter-widgets/base",
            "_model_module_version": "1.2.0",
            "_model_name": "LayoutModel",
            "_view_count": null,
            "_view_module": "@jupyter-widgets/base",
            "_view_module_version": "1.2.0",
            "_view_name": "LayoutView",
            "align_content": null,
            "align_items": null,
            "align_self": null,
            "border": null,
            "bottom": null,
            "display": null,
            "flex": null,
            "flex_flow": null,
            "grid_area": null,
            "grid_auto_columns": null,
            "grid_auto_flow": null,
            "grid_auto_rows": null,
            "grid_column": null,
            "grid_gap": null,
            "grid_row": null,
            "grid_template_areas": null,
            "grid_template_columns": null,
            "grid_template_rows": null,
            "height": null,
            "justify_content": null,
            "justify_items": null,
            "left": null,
            "margin": null,
            "max_height": null,
            "max_width": null,
            "min_height": null,
            "min_width": null,
            "object_fit": null,
            "object_position": null,
            "order": null,
            "overflow": null,
            "overflow_x": null,
            "overflow_y": null,
            "padding": null,
            "right": null,
            "top": null,
            "visibility": null,
            "width": null
          }
        },
        "3472bfcb41ad465d977c8db79cd0ee69": {
          "model_module": "@jupyter-widgets/base",
          "model_name": "LayoutModel",
          "model_module_version": "1.2.0",
          "state": {
            "_model_module": "@jupyter-widgets/base",
            "_model_module_version": "1.2.0",
            "_model_name": "LayoutModel",
            "_view_count": null,
            "_view_module": "@jupyter-widgets/base",
            "_view_module_version": "1.2.0",
            "_view_name": "LayoutView",
            "align_content": null,
            "align_items": null,
            "align_self": null,
            "border": null,
            "bottom": null,
            "display": null,
            "flex": null,
            "flex_flow": null,
            "grid_area": null,
            "grid_auto_columns": null,
            "grid_auto_flow": null,
            "grid_auto_rows": null,
            "grid_column": null,
            "grid_gap": null,
            "grid_row": null,
            "grid_template_areas": null,
            "grid_template_columns": null,
            "grid_template_rows": null,
            "height": null,
            "justify_content": null,
            "justify_items": null,
            "left": null,
            "margin": null,
            "max_height": null,
            "max_width": null,
            "min_height": null,
            "min_width": null,
            "object_fit": null,
            "object_position": null,
            "order": null,
            "overflow": null,
            "overflow_x": null,
            "overflow_y": null,
            "padding": null,
            "right": null,
            "top": null,
            "visibility": null,
            "width": null
          }
        },
        "b2f815d0d3ab48688cb105109d61eaf2": {
          "model_module": "@jupyter-widgets/controls",
          "model_name": "DescriptionStyleModel",
          "model_module_version": "1.5.0",
          "state": {
            "_model_module": "@jupyter-widgets/controls",
            "_model_module_version": "1.5.0",
            "_model_name": "DescriptionStyleModel",
            "_view_count": null,
            "_view_module": "@jupyter-widgets/base",
            "_view_module_version": "1.2.0",
            "_view_name": "StyleView",
            "description_width": ""
          }
        },
        "090005c9b5f34573933893aeaa3139bd": {
          "model_module": "@jupyter-widgets/base",
          "model_name": "LayoutModel",
          "model_module_version": "1.2.0",
          "state": {
            "_model_module": "@jupyter-widgets/base",
            "_model_module_version": "1.2.0",
            "_model_name": "LayoutModel",
            "_view_count": null,
            "_view_module": "@jupyter-widgets/base",
            "_view_module_version": "1.2.0",
            "_view_name": "LayoutView",
            "align_content": null,
            "align_items": null,
            "align_self": null,
            "border": null,
            "bottom": null,
            "display": null,
            "flex": null,
            "flex_flow": null,
            "grid_area": null,
            "grid_auto_columns": null,
            "grid_auto_flow": null,
            "grid_auto_rows": null,
            "grid_column": null,
            "grid_gap": null,
            "grid_row": null,
            "grid_template_areas": null,
            "grid_template_columns": null,
            "grid_template_rows": null,
            "height": null,
            "justify_content": null,
            "justify_items": null,
            "left": null,
            "margin": null,
            "max_height": null,
            "max_width": null,
            "min_height": null,
            "min_width": null,
            "object_fit": null,
            "object_position": null,
            "order": null,
            "overflow": null,
            "overflow_x": null,
            "overflow_y": null,
            "padding": null,
            "right": null,
            "top": null,
            "visibility": null,
            "width": null
          }
        },
        "b6ec0492cd0949bc87c8e624b037636d": {
          "model_module": "@jupyter-widgets/controls",
          "model_name": "ProgressStyleModel",
          "model_module_version": "1.5.0",
          "state": {
            "_model_module": "@jupyter-widgets/controls",
            "_model_module_version": "1.5.0",
            "_model_name": "ProgressStyleModel",
            "_view_count": null,
            "_view_module": "@jupyter-widgets/base",
            "_view_module_version": "1.2.0",
            "_view_name": "StyleView",
            "bar_color": null,
            "description_width": ""
          }
        },
        "177cd5450dd4437d90ea198ef58c553c": {
          "model_module": "@jupyter-widgets/base",
          "model_name": "LayoutModel",
          "model_module_version": "1.2.0",
          "state": {
            "_model_module": "@jupyter-widgets/base",
            "_model_module_version": "1.2.0",
            "_model_name": "LayoutModel",
            "_view_count": null,
            "_view_module": "@jupyter-widgets/base",
            "_view_module_version": "1.2.0",
            "_view_name": "LayoutView",
            "align_content": null,
            "align_items": null,
            "align_self": null,
            "border": null,
            "bottom": null,
            "display": null,
            "flex": null,
            "flex_flow": null,
            "grid_area": null,
            "grid_auto_columns": null,
            "grid_auto_flow": null,
            "grid_auto_rows": null,
            "grid_column": null,
            "grid_gap": null,
            "grid_row": null,
            "grid_template_areas": null,
            "grid_template_columns": null,
            "grid_template_rows": null,
            "height": null,
            "justify_content": null,
            "justify_items": null,
            "left": null,
            "margin": null,
            "max_height": null,
            "max_width": null,
            "min_height": null,
            "min_width": null,
            "object_fit": null,
            "object_position": null,
            "order": null,
            "overflow": null,
            "overflow_x": null,
            "overflow_y": null,
            "padding": null,
            "right": null,
            "top": null,
            "visibility": null,
            "width": null
          }
        },
        "6f8e0e5c38e04c0989c85086343baad4": {
          "model_module": "@jupyter-widgets/controls",
          "model_name": "DescriptionStyleModel",
          "model_module_version": "1.5.0",
          "state": {
            "_model_module": "@jupyter-widgets/controls",
            "_model_module_version": "1.5.0",
            "_model_name": "DescriptionStyleModel",
            "_view_count": null,
            "_view_module": "@jupyter-widgets/base",
            "_view_module_version": "1.2.0",
            "_view_name": "StyleView",
            "description_width": ""
          }
        }
      }
    }
  },
  "cells": [
    {
      "cell_type": "markdown",
      "source": [
        "# Рекомендательные системы"
      ],
      "metadata": {
        "id": "DpxJ-7o2qOcE"
      }
    },
    {
      "cell_type": "code",
      "source": [
        "import logging\n",
        "import os\n",
        "import shutil \n",
        "\n",
        "import numpy as np\n",
        "from google.colab import drive\n",
        "\n",
        "RANDOM_SEED = 42\n",
        "np.random.seed(RANDOM_SEED)  # гарантируем воспроизводимость\n",
        "\n",
        "logging.basicConfig(format='%(asctime)s : %(message)s', level=logging.INFO)\n",
        "logger = logging.getLogger(__name__)\n",
        "logger.info('Инициализировали логгер')\n",
        "\n",
        "ROOT_DIR = '/content/drive' \n",
        "drive.mount(ROOT_DIR)\n",
        "print('Подключили диск')\n",
        "\n",
        "root_data_dir = os.path.join(ROOT_DIR, 'MyDrive', 'ml_course_data')\n",
        "if not os.path.exists(root_data_dir):\n",
        "  raise RuntimeError('Отсутствует директория с данными')\n",
        "else:\n",
        "  print('Содержимое директории %s: %s' % (root_data_dir, os.listdir(root_data_dir)))"
      ],
      "metadata": {
        "colab": {
          "base_uri": "https://localhost:8080/"
        },
        "id": "bW2mAhjiqOp9",
        "outputId": "083f22d5-2d78-47e5-82ed-79c96e73520c"
      },
      "execution_count": 3,
      "outputs": [
        {
          "output_type": "stream",
          "name": "stdout",
          "text": [
            "Mounted at /content/drive\n",
            "Подключили диск\n",
            "Содержимое директории /content/drive/MyDrive/ml_course_data: ['nyt-ingredients-snapshot-2015.csv', 'insurance.csv', 'non_linear.csv', 'client_segmentation.csv', 'eigen.pkl', 'clustering.pkl', 'boosting_toy_dataset.csv', 'ocr_dataset.zip', 'final_dataset.zip', 'politic_meme.jpg', 'gray_goose.jpg', 'memes', 'optimal_push_time', 'sklearn_data', 'my_little_recsys', 'corpora', 'nltk_data_old', 'logs', 'nltk_data', 'torch_models', 'recsys_data', 'MNIST', 'CIFAR', 'hymenoptera_data', 'pet_projects', 'ocr_dataset_sample.csv', 'geo_points.csv.gzip']\n"
          ]
        }
      ]
    },
    {
      "cell_type": "markdown",
      "source": [
        "Датасет для обучения рекомендательных систем содержит следующие данные\n",
        "\n",
        "* csv `user_item_views.zip` на ~2 млн строк вида\n",
        "\n",
        "| user_id | item_id\t| show_timestamp | show_duration |\n",
        "| --- | --- | --- | --- |\n",
        "| 912948920 | 1587935070 | 1119307 | 323 |\n",
        "\n",
        "* архив `data/content_catalog.zip` содержит csv с названиями контента в формате\n",
        "\n",
        "| item_id | title |\n",
        "| --- | --- |\n",
        "| 1593139110 | Тачки 3 |\n",
        "\n",
        "* архив `data/json_views.tar.gz` содержит single-line JSON вида\n",
        "\n",
        "```json\n",
        "{\"value\": 6127, \"date\": 1606254752, \"validation\": 0, \"item_id\": 930420160, \"user_id\": 399644822}\n",
        "```\n",
        "\n",
        "* pickle `ground_truth_dataset.pkl` с просмотрами контента за 1 день по 13353 пользователям\n",
        "* pickle `test_dataset.pkl` с просмотрами контента за 180 предшествующих дней по 13353 пользователям\n",
        "\n",
        "Бинарный файл `ground_truth_dataset.pkl` это массив где каждый элемент представляет собой\n",
        "записи из `json_views.tar.gz` агрегированные по полю `user_id` в словарь вида `{item_id: value, ..., item_id: value}`,\n",
        "с флагом `is_validation=1` \n",
        "\n",
        "В файле `test_dataset.pkl` содержатся такие же записи, но с флагом `is_validation=0`."
      ],
      "metadata": {
        "id": "SiU803xquh-I"
      }
    },
    {
      "cell_type": "markdown",
      "source": [
        "Загружаем табличные данные для подсчёта статистик"
      ],
      "metadata": {
        "id": "R5akBNwzxJo4"
      }
    },
    {
      "cell_type": "code",
      "source": [
        "import pandas as pd\n",
        "\n",
        "recsys_dir = os.path.join(root_data_dir, 'recsys_data')\n",
        "user_item_data_file_path = os.path.join(recsys_dir, 'user_item_views.zip')\n",
        "\n",
        "user_item_views_df = pd.read_csv(user_item_data_file_path, compression='zip')\n",
        "print('num rows: %d' % user_item_views_df.shape[0])\n",
        "user_item_views_df.head(3)"
      ],
      "metadata": {
        "colab": {
          "base_uri": "https://localhost:8080/",
          "height": 161
        },
        "id": "MqrTggncqUr9",
        "outputId": "b1039c75-9af3-4a72-c859-6d3fd0d85d81"
      },
      "execution_count": 4,
      "outputs": [
        {
          "output_type": "stream",
          "name": "stdout",
          "text": [
            "num rows: 1975696\n"
          ]
        },
        {
          "output_type": "execute_result",
          "data": {
            "text/plain": [
              "      user_id     item_id  show_timestamp  show_duration\n",
              "0   912948920  1587935070         1119307            323\n",
              "1  1882728205  1466874188         1115796           1428\n",
              "2   382105433   276839040         1116585            921"
            ],
            "text/html": [
              "\n",
              "  <div id=\"df-f3f046f0-f3c0-4e32-8214-a3022f7e2ddf\">\n",
              "    <div class=\"colab-df-container\">\n",
              "      <div>\n",
              "<style scoped>\n",
              "    .dataframe tbody tr th:only-of-type {\n",
              "        vertical-align: middle;\n",
              "    }\n",
              "\n",
              "    .dataframe tbody tr th {\n",
              "        vertical-align: top;\n",
              "    }\n",
              "\n",
              "    .dataframe thead th {\n",
              "        text-align: right;\n",
              "    }\n",
              "</style>\n",
              "<table border=\"1\" class=\"dataframe\">\n",
              "  <thead>\n",
              "    <tr style=\"text-align: right;\">\n",
              "      <th></th>\n",
              "      <th>user_id</th>\n",
              "      <th>item_id</th>\n",
              "      <th>show_timestamp</th>\n",
              "      <th>show_duration</th>\n",
              "    </tr>\n",
              "  </thead>\n",
              "  <tbody>\n",
              "    <tr>\n",
              "      <th>0</th>\n",
              "      <td>912948920</td>\n",
              "      <td>1587935070</td>\n",
              "      <td>1119307</td>\n",
              "      <td>323</td>\n",
              "    </tr>\n",
              "    <tr>\n",
              "      <th>1</th>\n",
              "      <td>1882728205</td>\n",
              "      <td>1466874188</td>\n",
              "      <td>1115796</td>\n",
              "      <td>1428</td>\n",
              "    </tr>\n",
              "    <tr>\n",
              "      <th>2</th>\n",
              "      <td>382105433</td>\n",
              "      <td>276839040</td>\n",
              "      <td>1116585</td>\n",
              "      <td>921</td>\n",
              "    </tr>\n",
              "  </tbody>\n",
              "</table>\n",
              "</div>\n",
              "      <button class=\"colab-df-convert\" onclick=\"convertToInteractive('df-f3f046f0-f3c0-4e32-8214-a3022f7e2ddf')\"\n",
              "              title=\"Convert this dataframe to an interactive table.\"\n",
              "              style=\"display:none;\">\n",
              "        \n",
              "  <svg xmlns=\"http://www.w3.org/2000/svg\" height=\"24px\"viewBox=\"0 0 24 24\"\n",
              "       width=\"24px\">\n",
              "    <path d=\"M0 0h24v24H0V0z\" fill=\"none\"/>\n",
              "    <path d=\"M18.56 5.44l.94 2.06.94-2.06 2.06-.94-2.06-.94-.94-2.06-.94 2.06-2.06.94zm-11 1L8.5 8.5l.94-2.06 2.06-.94-2.06-.94L8.5 2.5l-.94 2.06-2.06.94zm10 10l.94 2.06.94-2.06 2.06-.94-2.06-.94-.94-2.06-.94 2.06-2.06.94z\"/><path d=\"M17.41 7.96l-1.37-1.37c-.4-.4-.92-.59-1.43-.59-.52 0-1.04.2-1.43.59L10.3 9.45l-7.72 7.72c-.78.78-.78 2.05 0 2.83L4 21.41c.39.39.9.59 1.41.59.51 0 1.02-.2 1.41-.59l7.78-7.78 2.81-2.81c.8-.78.8-2.07 0-2.86zM5.41 20L4 18.59l7.72-7.72 1.47 1.35L5.41 20z\"/>\n",
              "  </svg>\n",
              "      </button>\n",
              "      \n",
              "  <style>\n",
              "    .colab-df-container {\n",
              "      display:flex;\n",
              "      flex-wrap:wrap;\n",
              "      gap: 12px;\n",
              "    }\n",
              "\n",
              "    .colab-df-convert {\n",
              "      background-color: #E8F0FE;\n",
              "      border: none;\n",
              "      border-radius: 50%;\n",
              "      cursor: pointer;\n",
              "      display: none;\n",
              "      fill: #1967D2;\n",
              "      height: 32px;\n",
              "      padding: 0 0 0 0;\n",
              "      width: 32px;\n",
              "    }\n",
              "\n",
              "    .colab-df-convert:hover {\n",
              "      background-color: #E2EBFA;\n",
              "      box-shadow: 0px 1px 2px rgba(60, 64, 67, 0.3), 0px 1px 3px 1px rgba(60, 64, 67, 0.15);\n",
              "      fill: #174EA6;\n",
              "    }\n",
              "\n",
              "    [theme=dark] .colab-df-convert {\n",
              "      background-color: #3B4455;\n",
              "      fill: #D2E3FC;\n",
              "    }\n",
              "\n",
              "    [theme=dark] .colab-df-convert:hover {\n",
              "      background-color: #434B5C;\n",
              "      box-shadow: 0px 1px 3px 1px rgba(0, 0, 0, 0.15);\n",
              "      filter: drop-shadow(0px 1px 2px rgba(0, 0, 0, 0.3));\n",
              "      fill: #FFFFFF;\n",
              "    }\n",
              "  </style>\n",
              "\n",
              "      <script>\n",
              "        const buttonEl =\n",
              "          document.querySelector('#df-f3f046f0-f3c0-4e32-8214-a3022f7e2ddf button.colab-df-convert');\n",
              "        buttonEl.style.display =\n",
              "          google.colab.kernel.accessAllowed ? 'block' : 'none';\n",
              "\n",
              "        async function convertToInteractive(key) {\n",
              "          const element = document.querySelector('#df-f3f046f0-f3c0-4e32-8214-a3022f7e2ddf');\n",
              "          const dataTable =\n",
              "            await google.colab.kernel.invokeFunction('convertToInteractive',\n",
              "                                                     [key], {});\n",
              "          if (!dataTable) return;\n",
              "\n",
              "          const docLinkHtml = 'Like what you see? Visit the ' +\n",
              "            '<a target=\"_blank\" href=https://colab.research.google.com/notebooks/data_table.ipynb>data table notebook</a>'\n",
              "            + ' to learn more about interactive tables.';\n",
              "          element.innerHTML = '';\n",
              "          dataTable['output_type'] = 'display_data';\n",
              "          await google.colab.output.renderOutput(dataTable, element);\n",
              "          const docLink = document.createElement('div');\n",
              "          docLink.innerHTML = docLinkHtml;\n",
              "          element.appendChild(docLink);\n",
              "        }\n",
              "      </script>\n",
              "    </div>\n",
              "  </div>\n",
              "  "
            ]
          },
          "metadata": {},
          "execution_count": 4
        }
      ]
    },
    {
      "cell_type": "markdown",
      "source": [
        "Каталог контента"
      ],
      "metadata": {
        "id": "lrwCNqMa7-KY"
      }
    },
    {
      "cell_type": "code",
      "source": [
        "catalog_file_path = os.path.join(recsys_dir, 'content_catalog.zip')\n",
        "content_catalog = pd.read_csv(catalog_file_path, compression='zip')\n",
        "\n",
        "content_catalog.head(5)"
      ],
      "metadata": {
        "colab": {
          "base_uri": "https://localhost:8080/",
          "height": 206
        },
        "id": "z9-yqrXX7-at",
        "outputId": "ac1105f0-3d20-41dd-be27-a205076782bb"
      },
      "execution_count": 5,
      "outputs": [
        {
          "output_type": "execute_result",
          "data": {
            "text/plain": [
              "      item_id                            title\n",
              "0   448991742                         Кэндимен\n",
              "1  1131986063                   Горячие головы\n",
              "2  1835073733         После дождичка в четверг\n",
              "3  1792204487                   Сокровища О.К.\n",
              "4     5589796  Затура: Космическое приключение"
            ],
            "text/html": [
              "\n",
              "  <div id=\"df-df003dc0-4041-49bb-98b3-2e0a5bb6c5ff\">\n",
              "    <div class=\"colab-df-container\">\n",
              "      <div>\n",
              "<style scoped>\n",
              "    .dataframe tbody tr th:only-of-type {\n",
              "        vertical-align: middle;\n",
              "    }\n",
              "\n",
              "    .dataframe tbody tr th {\n",
              "        vertical-align: top;\n",
              "    }\n",
              "\n",
              "    .dataframe thead th {\n",
              "        text-align: right;\n",
              "    }\n",
              "</style>\n",
              "<table border=\"1\" class=\"dataframe\">\n",
              "  <thead>\n",
              "    <tr style=\"text-align: right;\">\n",
              "      <th></th>\n",
              "      <th>item_id</th>\n",
              "      <th>title</th>\n",
              "    </tr>\n",
              "  </thead>\n",
              "  <tbody>\n",
              "    <tr>\n",
              "      <th>0</th>\n",
              "      <td>448991742</td>\n",
              "      <td>Кэндимен</td>\n",
              "    </tr>\n",
              "    <tr>\n",
              "      <th>1</th>\n",
              "      <td>1131986063</td>\n",
              "      <td>Горячие головы</td>\n",
              "    </tr>\n",
              "    <tr>\n",
              "      <th>2</th>\n",
              "      <td>1835073733</td>\n",
              "      <td>После дождичка в четверг</td>\n",
              "    </tr>\n",
              "    <tr>\n",
              "      <th>3</th>\n",
              "      <td>1792204487</td>\n",
              "      <td>Сокровища О.К.</td>\n",
              "    </tr>\n",
              "    <tr>\n",
              "      <th>4</th>\n",
              "      <td>5589796</td>\n",
              "      <td>Затура: Космическое приключение</td>\n",
              "    </tr>\n",
              "  </tbody>\n",
              "</table>\n",
              "</div>\n",
              "      <button class=\"colab-df-convert\" onclick=\"convertToInteractive('df-df003dc0-4041-49bb-98b3-2e0a5bb6c5ff')\"\n",
              "              title=\"Convert this dataframe to an interactive table.\"\n",
              "              style=\"display:none;\">\n",
              "        \n",
              "  <svg xmlns=\"http://www.w3.org/2000/svg\" height=\"24px\"viewBox=\"0 0 24 24\"\n",
              "       width=\"24px\">\n",
              "    <path d=\"M0 0h24v24H0V0z\" fill=\"none\"/>\n",
              "    <path d=\"M18.56 5.44l.94 2.06.94-2.06 2.06-.94-2.06-.94-.94-2.06-.94 2.06-2.06.94zm-11 1L8.5 8.5l.94-2.06 2.06-.94-2.06-.94L8.5 2.5l-.94 2.06-2.06.94zm10 10l.94 2.06.94-2.06 2.06-.94-2.06-.94-.94-2.06-.94 2.06-2.06.94z\"/><path d=\"M17.41 7.96l-1.37-1.37c-.4-.4-.92-.59-1.43-.59-.52 0-1.04.2-1.43.59L10.3 9.45l-7.72 7.72c-.78.78-.78 2.05 0 2.83L4 21.41c.39.39.9.59 1.41.59.51 0 1.02-.2 1.41-.59l7.78-7.78 2.81-2.81c.8-.78.8-2.07 0-2.86zM5.41 20L4 18.59l7.72-7.72 1.47 1.35L5.41 20z\"/>\n",
              "  </svg>\n",
              "      </button>\n",
              "      \n",
              "  <style>\n",
              "    .colab-df-container {\n",
              "      display:flex;\n",
              "      flex-wrap:wrap;\n",
              "      gap: 12px;\n",
              "    }\n",
              "\n",
              "    .colab-df-convert {\n",
              "      background-color: #E8F0FE;\n",
              "      border: none;\n",
              "      border-radius: 50%;\n",
              "      cursor: pointer;\n",
              "      display: none;\n",
              "      fill: #1967D2;\n",
              "      height: 32px;\n",
              "      padding: 0 0 0 0;\n",
              "      width: 32px;\n",
              "    }\n",
              "\n",
              "    .colab-df-convert:hover {\n",
              "      background-color: #E2EBFA;\n",
              "      box-shadow: 0px 1px 2px rgba(60, 64, 67, 0.3), 0px 1px 3px 1px rgba(60, 64, 67, 0.15);\n",
              "      fill: #174EA6;\n",
              "    }\n",
              "\n",
              "    [theme=dark] .colab-df-convert {\n",
              "      background-color: #3B4455;\n",
              "      fill: #D2E3FC;\n",
              "    }\n",
              "\n",
              "    [theme=dark] .colab-df-convert:hover {\n",
              "      background-color: #434B5C;\n",
              "      box-shadow: 0px 1px 3px 1px rgba(0, 0, 0, 0.15);\n",
              "      filter: drop-shadow(0px 1px 2px rgba(0, 0, 0, 0.3));\n",
              "      fill: #FFFFFF;\n",
              "    }\n",
              "  </style>\n",
              "\n",
              "      <script>\n",
              "        const buttonEl =\n",
              "          document.querySelector('#df-df003dc0-4041-49bb-98b3-2e0a5bb6c5ff button.colab-df-convert');\n",
              "        buttonEl.style.display =\n",
              "          google.colab.kernel.accessAllowed ? 'block' : 'none';\n",
              "\n",
              "        async function convertToInteractive(key) {\n",
              "          const element = document.querySelector('#df-df003dc0-4041-49bb-98b3-2e0a5bb6c5ff');\n",
              "          const dataTable =\n",
              "            await google.colab.kernel.invokeFunction('convertToInteractive',\n",
              "                                                     [key], {});\n",
              "          if (!dataTable) return;\n",
              "\n",
              "          const docLinkHtml = 'Like what you see? Visit the ' +\n",
              "            '<a target=\"_blank\" href=https://colab.research.google.com/notebooks/data_table.ipynb>data table notebook</a>'\n",
              "            + ' to learn more about interactive tables.';\n",
              "          element.innerHTML = '';\n",
              "          dataTable['output_type'] = 'display_data';\n",
              "          await google.colab.output.renderOutput(dataTable, element);\n",
              "          const docLink = document.createElement('div');\n",
              "          docLink.innerHTML = docLinkHtml;\n",
              "          element.appendChild(docLink);\n",
              "        }\n",
              "      </script>\n",
              "    </div>\n",
              "  </div>\n",
              "  "
            ]
          },
          "metadata": {},
          "execution_count": 5
        }
      ]
    },
    {
      "cell_type": "markdown",
      "source": [
        "Тестовый и валидационный наборы данных"
      ],
      "metadata": {
        "id": "9ErPsocH-B_L"
      }
    },
    {
      "cell_type": "code",
      "source": [
        "import pickle\n",
        "\n",
        "with open(os.path.join(recsys_dir, 'ground_truth_dataset.pkl'), 'rb') as f:\n",
        "    ground_truth_dataset = pickle.load(f)\n",
        "with open(os.path.join(recsys_dir, 'test_dataset.pkl'), 'rb') as f:\n",
        "    test_dataset = pickle.load(f)\n",
        "print(\n",
        "    'test dataset users %d, valid dataset users %d',\n",
        "    len(test_dataset), len(ground_truth_dataset)\n",
        ")"
      ],
      "metadata": {
        "colab": {
          "base_uri": "https://localhost:8080/"
        },
        "id": "KOrVWKgK-H0R",
        "outputId": "c196cc33-70f0-4b3e-9c7d-b12c853e8d46"
      },
      "execution_count": 6,
      "outputs": [
        {
          "output_type": "stream",
          "name": "stdout",
          "text": [
            "test dataset users %d, valid dataset users %d 13163 13163\n"
          ]
        }
      ]
    },
    {
      "cell_type": "markdown",
      "source": [
        "Алгоритмы рекомендательных систем работают с матрицей user-item\n",
        "* число строк совпадает с количеством пользователей\n",
        "* число столбцов совпадает с количестовом контента\n",
        "* на пересечении строки и столбца стоит единица в случае, если просмотр присутствовал в датасете и ноль если такого просмотра не было\n",
        "\n",
        "Т.к. контента в системе намного больше, чем может посмотреть пользователь, то такая матрица называется разреженной (мы встречали такую в занятии по tf-idf)\n",
        "\n",
        "Для трансформации в csr нужно перевести `user_id` в индекс строки, а `content_id` в индекс столбца. Создаём индексы"
      ],
      "metadata": {
        "id": "T3QeT2gtypup"
      }
    },
    {
      "cell_type": "code",
      "source": [
        "unique_users = user_item_views_df.user_id.unique()\n",
        "unique_items = user_item_views_df.item_id.unique()\n",
        "\n",
        "# премая и обратная индексация контента\n",
        "item_to_id = {j: i for i, j in enumerate(unique_items)}\n",
        "id_to_item = {j: i for i, j in item_to_id.items()}\n",
        "\n",
        "# прямая и обратная индексация пользователей\n",
        "user_to_id = {j: i for i, j in enumerate(unique_users)}\n",
        "logger.info('Индекс создан: %d строк %d столбцов', len(user_to_id), len(item_to_id))"
      ],
      "metadata": {
        "id": "RpE0BUCiyhUo"
      },
      "execution_count": 7,
      "outputs": []
    },
    {
      "cell_type": "markdown",
      "source": [
        "## Трансформация в csr\n",
        "\n",
        "Для каждого пользователя оставляем top-20 последних просмотров чтобы матрица не получилась сишком большой"
      ],
      "metadata": {
        "id": "T3YEj16R20SE"
      }
    },
    {
      "cell_type": "code",
      "source": [
        "HISTORY_TOP = 20\n",
        "# применяем оконную функцию\n",
        "user_item_views_df['rank'] = (\n",
        "    user_item_views_df\n",
        "    .groupby(by=['user_id'])['show_timestamp']\n",
        "    .rank(method='first', ascending=False)\n",
        ")\n",
        "ui_slim_df = (\n",
        "    user_item_views_df[user_item_views_df['rank'] < HISTORY_TOP][['user_id', 'item_id']]\n",
        ")\n",
        "\n",
        "ui_slim_df.head()"
      ],
      "metadata": {
        "colab": {
          "base_uri": "https://localhost:8080/",
          "height": 206
        },
        "id": "qQTaEn_Uy94-",
        "outputId": "b158b769-33a6-42d8-8bd7-7770264cc0f7"
      },
      "execution_count": 8,
      "outputs": [
        {
          "output_type": "execute_result",
          "data": {
            "text/plain": [
              "      user_id     item_id\n",
              "0   912948920  1587935070\n",
              "1  1882728205  1466874188\n",
              "2   382105433   276839040\n",
              "3  1030600713   401051817\n",
              "4   743755331  1193027362"
            ],
            "text/html": [
              "\n",
              "  <div id=\"df-1c7bf8c7-0005-4572-95bd-d6c76a1e66e3\">\n",
              "    <div class=\"colab-df-container\">\n",
              "      <div>\n",
              "<style scoped>\n",
              "    .dataframe tbody tr th:only-of-type {\n",
              "        vertical-align: middle;\n",
              "    }\n",
              "\n",
              "    .dataframe tbody tr th {\n",
              "        vertical-align: top;\n",
              "    }\n",
              "\n",
              "    .dataframe thead th {\n",
              "        text-align: right;\n",
              "    }\n",
              "</style>\n",
              "<table border=\"1\" class=\"dataframe\">\n",
              "  <thead>\n",
              "    <tr style=\"text-align: right;\">\n",
              "      <th></th>\n",
              "      <th>user_id</th>\n",
              "      <th>item_id</th>\n",
              "    </tr>\n",
              "  </thead>\n",
              "  <tbody>\n",
              "    <tr>\n",
              "      <th>0</th>\n",
              "      <td>912948920</td>\n",
              "      <td>1587935070</td>\n",
              "    </tr>\n",
              "    <tr>\n",
              "      <th>1</th>\n",
              "      <td>1882728205</td>\n",
              "      <td>1466874188</td>\n",
              "    </tr>\n",
              "    <tr>\n",
              "      <th>2</th>\n",
              "      <td>382105433</td>\n",
              "      <td>276839040</td>\n",
              "    </tr>\n",
              "    <tr>\n",
              "      <th>3</th>\n",
              "      <td>1030600713</td>\n",
              "      <td>401051817</td>\n",
              "    </tr>\n",
              "    <tr>\n",
              "      <th>4</th>\n",
              "      <td>743755331</td>\n",
              "      <td>1193027362</td>\n",
              "    </tr>\n",
              "  </tbody>\n",
              "</table>\n",
              "</div>\n",
              "      <button class=\"colab-df-convert\" onclick=\"convertToInteractive('df-1c7bf8c7-0005-4572-95bd-d6c76a1e66e3')\"\n",
              "              title=\"Convert this dataframe to an interactive table.\"\n",
              "              style=\"display:none;\">\n",
              "        \n",
              "  <svg xmlns=\"http://www.w3.org/2000/svg\" height=\"24px\"viewBox=\"0 0 24 24\"\n",
              "       width=\"24px\">\n",
              "    <path d=\"M0 0h24v24H0V0z\" fill=\"none\"/>\n",
              "    <path d=\"M18.56 5.44l.94 2.06.94-2.06 2.06-.94-2.06-.94-.94-2.06-.94 2.06-2.06.94zm-11 1L8.5 8.5l.94-2.06 2.06-.94-2.06-.94L8.5 2.5l-.94 2.06-2.06.94zm10 10l.94 2.06.94-2.06 2.06-.94-2.06-.94-.94-2.06-.94 2.06-2.06.94z\"/><path d=\"M17.41 7.96l-1.37-1.37c-.4-.4-.92-.59-1.43-.59-.52 0-1.04.2-1.43.59L10.3 9.45l-7.72 7.72c-.78.78-.78 2.05 0 2.83L4 21.41c.39.39.9.59 1.41.59.51 0 1.02-.2 1.41-.59l7.78-7.78 2.81-2.81c.8-.78.8-2.07 0-2.86zM5.41 20L4 18.59l7.72-7.72 1.47 1.35L5.41 20z\"/>\n",
              "  </svg>\n",
              "      </button>\n",
              "      \n",
              "  <style>\n",
              "    .colab-df-container {\n",
              "      display:flex;\n",
              "      flex-wrap:wrap;\n",
              "      gap: 12px;\n",
              "    }\n",
              "\n",
              "    .colab-df-convert {\n",
              "      background-color: #E8F0FE;\n",
              "      border: none;\n",
              "      border-radius: 50%;\n",
              "      cursor: pointer;\n",
              "      display: none;\n",
              "      fill: #1967D2;\n",
              "      height: 32px;\n",
              "      padding: 0 0 0 0;\n",
              "      width: 32px;\n",
              "    }\n",
              "\n",
              "    .colab-df-convert:hover {\n",
              "      background-color: #E2EBFA;\n",
              "      box-shadow: 0px 1px 2px rgba(60, 64, 67, 0.3), 0px 1px 3px 1px rgba(60, 64, 67, 0.15);\n",
              "      fill: #174EA6;\n",
              "    }\n",
              "\n",
              "    [theme=dark] .colab-df-convert {\n",
              "      background-color: #3B4455;\n",
              "      fill: #D2E3FC;\n",
              "    }\n",
              "\n",
              "    [theme=dark] .colab-df-convert:hover {\n",
              "      background-color: #434B5C;\n",
              "      box-shadow: 0px 1px 3px 1px rgba(0, 0, 0, 0.15);\n",
              "      filter: drop-shadow(0px 1px 2px rgba(0, 0, 0, 0.3));\n",
              "      fill: #FFFFFF;\n",
              "    }\n",
              "  </style>\n",
              "\n",
              "      <script>\n",
              "        const buttonEl =\n",
              "          document.querySelector('#df-1c7bf8c7-0005-4572-95bd-d6c76a1e66e3 button.colab-df-convert');\n",
              "        buttonEl.style.display =\n",
              "          google.colab.kernel.accessAllowed ? 'block' : 'none';\n",
              "\n",
              "        async function convertToInteractive(key) {\n",
              "          const element = document.querySelector('#df-1c7bf8c7-0005-4572-95bd-d6c76a1e66e3');\n",
              "          const dataTable =\n",
              "            await google.colab.kernel.invokeFunction('convertToInteractive',\n",
              "                                                     [key], {});\n",
              "          if (!dataTable) return;\n",
              "\n",
              "          const docLinkHtml = 'Like what you see? Visit the ' +\n",
              "            '<a target=\"_blank\" href=https://colab.research.google.com/notebooks/data_table.ipynb>data table notebook</a>'\n",
              "            + ' to learn more about interactive tables.';\n",
              "          element.innerHTML = '';\n",
              "          dataTable['output_type'] = 'display_data';\n",
              "          await google.colab.output.renderOutput(dataTable, element);\n",
              "          const docLink = document.createElement('div');\n",
              "          docLink.innerHTML = docLinkHtml;\n",
              "          element.appendChild(docLink);\n",
              "        }\n",
              "      </script>\n",
              "    </div>\n",
              "  </div>\n",
              "  "
            ]
          },
          "metadata": {},
          "execution_count": 8
        }
      ]
    },
    {
      "cell_type": "markdown",
      "source": [
        "Создаём матрицу"
      ],
      "metadata": {
        "id": "feqsKcGM3fSo"
      }
    },
    {
      "cell_type": "code",
      "source": [
        "from scipy.sparse import csr_matrix\n",
        "\n",
        "num_rows = len(user_to_id)\n",
        "num_cols = len(item_to_id)\n",
        "entries = np.ones(ui_slim_df.shape[0])  # проставляем ненулевые элементы - единицы\n",
        "rows = tuple(user_to_id[i] for i in ui_slim_df.user_id.values)\n",
        "cols = tuple(item_to_id[i] for i in ui_slim_df.item_id.values)\n",
        "\n",
        "train_set_csr = csr_matrix(\n",
        "    (entries, (rows, cols)),\n",
        "    shape=(num_rows, num_cols),\n",
        "    dtype=np.float32\n",
        ")\n",
        "train_set_csr"
      ],
      "metadata": {
        "colab": {
          "base_uri": "https://localhost:8080/"
        },
        "id": "1zxR3t6z3IBQ",
        "outputId": "b6f315f2-dcec-4667-af87-7b247f3c73c0"
      },
      "execution_count": 9,
      "outputs": [
        {
          "output_type": "execute_result",
          "data": {
            "text/plain": [
              "<168756x9991 sparse matrix of type '<class 'numpy.float32'>'\n",
              "\twith 1433407 stored elements in Compressed Sparse Row format>"
            ]
          },
          "metadata": {},
          "execution_count": 9
        }
      ]
    },
    {
      "cell_type": "markdown",
      "source": [
        "Обучение модели"
      ],
      "metadata": {
        "id": "BzXrWfmy4CoE"
      }
    },
    {
      "cell_type": "code",
      "source": [
        "from IPython.display import clear_output\n",
        "!pip install implicit==0.5.2\n",
        "\n",
        "clear_output()"
      ],
      "metadata": {
        "id": "LcQFWmN-4e51"
      },
      "execution_count": 10,
      "outputs": []
    },
    {
      "cell_type": "code",
      "source": [
        "import os\n",
        "from implicit.als import AlternatingLeastSquares\n",
        "\n",
        "os.environ['OPENBLAS_NUM_THREADS'] = '1'\n",
        "\n",
        "implict_als_params = {'factors': 4, 'iterations': 1}\n",
        "model = AlternatingLeastSquares(**implict_als_params)\n",
        "# на вход подаём матрицу user_item\n",
        "model.fit(train_set_csr)"
      ],
      "metadata": {
        "colab": {
          "base_uri": "https://localhost:8080/",
          "height": 105,
          "referenced_widgets": [
            "75496051cff848ea8d983f4ba6578f3c",
            "3633ed7350bf4d41a6eb6a6a8a061cd9",
            "f326c90ca6244345962e4df952e1e4fb",
            "e0a4a360b6c7483998dc4afc04f7a603",
            "389f11df8f274853b355f59d9f47bb20",
            "7177609620fd4a1eaab30c7f075ccf00",
            "31a0676b3787426282ab0199db7bcc10",
            "74cfce80e16d486798e59b95e0255339",
            "0ce1e89eff014f7485dc3c4339f7d56c",
            "33f803e57e5e45a2bccf966a4af60e77",
            "00eb96e061fe47619e5ea3ffe3f9731f"
          ]
        },
        "id": "ylyp3blO3xBt",
        "outputId": "5af8d036-8fa5-4af4-b539-ecd77970a3bc"
      },
      "execution_count": 11,
      "outputs": [
        {
          "output_type": "stream",
          "name": "stderr",
          "text": [
            "/usr/local/lib/python3.7/dist-packages/implicit/gpu/__init__.py:14: UserWarning: CUDA extension is built, but disabling GPU support because of 'Cuda Error: no CUDA-capable device is detected (/project/./implicit/gpu/utils.h:71)'\n",
            "  f\"CUDA extension is built, but disabling GPU support because of '{e}'\",\n"
          ]
        },
        {
          "output_type": "display_data",
          "data": {
            "text/plain": [
              "  0%|          | 0/1 [00:00<?, ?it/s]"
            ],
            "application/vnd.jupyter.widget-view+json": {
              "version_major": 2,
              "version_minor": 0,
              "model_id": "75496051cff848ea8d983f4ba6578f3c"
            }
          },
          "metadata": {}
        }
      ]
    },
    {
      "cell_type": "markdown",
      "source": [
        "Пример работы модели достаём историю просмотров случайного пользователя\n",
        "\n",
        "На вход ALS идёт CSR матрица с просмотренным контентом, по которой генерируются рекомендации"
      ],
      "metadata": {
        "id": "neTr8ni65BLO"
      }
    },
    {
      "cell_type": "code",
      "source": [
        "def id_to_content_df(ids: np.array, content_df: pd.DataFrame, id_to_item):\n",
        "    items = tuple(id_to_item[i] for i in ids)\n",
        "    result_df = content_catalog[\n",
        "        content_catalog.item_id.isin(items)\n",
        "    ]\n",
        "    return result_df\n",
        "\n",
        "# csr матрица на вход ALS\n",
        "random_history = train_set_csr[np.random.randint(low=0, high=train_set_csr.shape[0])]\n",
        "id_to_content_df(random_history.nonzero()[1], content_catalog, id_to_item)"
      ],
      "metadata": {
        "colab": {
          "base_uri": "https://localhost:8080/",
          "height": 363
        },
        "id": "IN9lyUFC4Edq",
        "outputId": "c0f32ef2-a753-4d20-832c-cbe0803c26b7"
      },
      "execution_count": 12,
      "outputs": [
        {
          "output_type": "execute_result",
          "data": {
            "text/plain": [
              "          item_id                           title\n",
              "1148   1965687007                   Война миров Z\n",
              "5640    733867875                        Союзники\n",
              "7103    997565431                             Ной\n",
              "10880  1323560630  Zомбилэнд: Контрольный выстрел\n",
              "11139  1502288546                           Мумия\n",
              "12108  1095953790               Бронкская история\n",
              "13091   997620418                 Семь психопатов\n",
              "16232  1141280972                          Спящие\n",
              "26665  1148282040               Просто помиловать\n",
              "27072   267109624     Хозяин морей: На краю Земли"
            ],
            "text/html": [
              "\n",
              "  <div id=\"df-3cd1cfe2-a63e-4633-bfbe-4f36de3601ba\">\n",
              "    <div class=\"colab-df-container\">\n",
              "      <div>\n",
              "<style scoped>\n",
              "    .dataframe tbody tr th:only-of-type {\n",
              "        vertical-align: middle;\n",
              "    }\n",
              "\n",
              "    .dataframe tbody tr th {\n",
              "        vertical-align: top;\n",
              "    }\n",
              "\n",
              "    .dataframe thead th {\n",
              "        text-align: right;\n",
              "    }\n",
              "</style>\n",
              "<table border=\"1\" class=\"dataframe\">\n",
              "  <thead>\n",
              "    <tr style=\"text-align: right;\">\n",
              "      <th></th>\n",
              "      <th>item_id</th>\n",
              "      <th>title</th>\n",
              "    </tr>\n",
              "  </thead>\n",
              "  <tbody>\n",
              "    <tr>\n",
              "      <th>1148</th>\n",
              "      <td>1965687007</td>\n",
              "      <td>Война миров Z</td>\n",
              "    </tr>\n",
              "    <tr>\n",
              "      <th>5640</th>\n",
              "      <td>733867875</td>\n",
              "      <td>Союзники</td>\n",
              "    </tr>\n",
              "    <tr>\n",
              "      <th>7103</th>\n",
              "      <td>997565431</td>\n",
              "      <td>Ной</td>\n",
              "    </tr>\n",
              "    <tr>\n",
              "      <th>10880</th>\n",
              "      <td>1323560630</td>\n",
              "      <td>Zомбилэнд: Контрольный выстрел</td>\n",
              "    </tr>\n",
              "    <tr>\n",
              "      <th>11139</th>\n",
              "      <td>1502288546</td>\n",
              "      <td>Мумия</td>\n",
              "    </tr>\n",
              "    <tr>\n",
              "      <th>12108</th>\n",
              "      <td>1095953790</td>\n",
              "      <td>Бронкская история</td>\n",
              "    </tr>\n",
              "    <tr>\n",
              "      <th>13091</th>\n",
              "      <td>997620418</td>\n",
              "      <td>Семь психопатов</td>\n",
              "    </tr>\n",
              "    <tr>\n",
              "      <th>16232</th>\n",
              "      <td>1141280972</td>\n",
              "      <td>Спящие</td>\n",
              "    </tr>\n",
              "    <tr>\n",
              "      <th>26665</th>\n",
              "      <td>1148282040</td>\n",
              "      <td>Просто помиловать</td>\n",
              "    </tr>\n",
              "    <tr>\n",
              "      <th>27072</th>\n",
              "      <td>267109624</td>\n",
              "      <td>Хозяин морей: На краю Земли</td>\n",
              "    </tr>\n",
              "  </tbody>\n",
              "</table>\n",
              "</div>\n",
              "      <button class=\"colab-df-convert\" onclick=\"convertToInteractive('df-3cd1cfe2-a63e-4633-bfbe-4f36de3601ba')\"\n",
              "              title=\"Convert this dataframe to an interactive table.\"\n",
              "              style=\"display:none;\">\n",
              "        \n",
              "  <svg xmlns=\"http://www.w3.org/2000/svg\" height=\"24px\"viewBox=\"0 0 24 24\"\n",
              "       width=\"24px\">\n",
              "    <path d=\"M0 0h24v24H0V0z\" fill=\"none\"/>\n",
              "    <path d=\"M18.56 5.44l.94 2.06.94-2.06 2.06-.94-2.06-.94-.94-2.06-.94 2.06-2.06.94zm-11 1L8.5 8.5l.94-2.06 2.06-.94-2.06-.94L8.5 2.5l-.94 2.06-2.06.94zm10 10l.94 2.06.94-2.06 2.06-.94-2.06-.94-.94-2.06-.94 2.06-2.06.94z\"/><path d=\"M17.41 7.96l-1.37-1.37c-.4-.4-.92-.59-1.43-.59-.52 0-1.04.2-1.43.59L10.3 9.45l-7.72 7.72c-.78.78-.78 2.05 0 2.83L4 21.41c.39.39.9.59 1.41.59.51 0 1.02-.2 1.41-.59l7.78-7.78 2.81-2.81c.8-.78.8-2.07 0-2.86zM5.41 20L4 18.59l7.72-7.72 1.47 1.35L5.41 20z\"/>\n",
              "  </svg>\n",
              "      </button>\n",
              "      \n",
              "  <style>\n",
              "    .colab-df-container {\n",
              "      display:flex;\n",
              "      flex-wrap:wrap;\n",
              "      gap: 12px;\n",
              "    }\n",
              "\n",
              "    .colab-df-convert {\n",
              "      background-color: #E8F0FE;\n",
              "      border: none;\n",
              "      border-radius: 50%;\n",
              "      cursor: pointer;\n",
              "      display: none;\n",
              "      fill: #1967D2;\n",
              "      height: 32px;\n",
              "      padding: 0 0 0 0;\n",
              "      width: 32px;\n",
              "    }\n",
              "\n",
              "    .colab-df-convert:hover {\n",
              "      background-color: #E2EBFA;\n",
              "      box-shadow: 0px 1px 2px rgba(60, 64, 67, 0.3), 0px 1px 3px 1px rgba(60, 64, 67, 0.15);\n",
              "      fill: #174EA6;\n",
              "    }\n",
              "\n",
              "    [theme=dark] .colab-df-convert {\n",
              "      background-color: #3B4455;\n",
              "      fill: #D2E3FC;\n",
              "    }\n",
              "\n",
              "    [theme=dark] .colab-df-convert:hover {\n",
              "      background-color: #434B5C;\n",
              "      box-shadow: 0px 1px 3px 1px rgba(0, 0, 0, 0.15);\n",
              "      filter: drop-shadow(0px 1px 2px rgba(0, 0, 0, 0.3));\n",
              "      fill: #FFFFFF;\n",
              "    }\n",
              "  </style>\n",
              "\n",
              "      <script>\n",
              "        const buttonEl =\n",
              "          document.querySelector('#df-3cd1cfe2-a63e-4633-bfbe-4f36de3601ba button.colab-df-convert');\n",
              "        buttonEl.style.display =\n",
              "          google.colab.kernel.accessAllowed ? 'block' : 'none';\n",
              "\n",
              "        async function convertToInteractive(key) {\n",
              "          const element = document.querySelector('#df-3cd1cfe2-a63e-4633-bfbe-4f36de3601ba');\n",
              "          const dataTable =\n",
              "            await google.colab.kernel.invokeFunction('convertToInteractive',\n",
              "                                                     [key], {});\n",
              "          if (!dataTable) return;\n",
              "\n",
              "          const docLinkHtml = 'Like what you see? Visit the ' +\n",
              "            '<a target=\"_blank\" href=https://colab.research.google.com/notebooks/data_table.ipynb>data table notebook</a>'\n",
              "            + ' to learn more about interactive tables.';\n",
              "          element.innerHTML = '';\n",
              "          dataTable['output_type'] = 'display_data';\n",
              "          await google.colab.output.renderOutput(dataTable, element);\n",
              "          const docLink = document.createElement('div');\n",
              "          docLink.innerHTML = docLinkHtml;\n",
              "          element.appendChild(docLink);\n",
              "        }\n",
              "      </script>\n",
              "    </div>\n",
              "  </div>\n",
              "  "
            ]
          },
          "metadata": {},
          "execution_count": 12
        }
      ]
    },
    {
      "cell_type": "markdown",
      "source": [
        "Приверим, что рекомендует модель для такой истории просмотров"
      ],
      "metadata": {
        "id": "YZdC8GUi8SKq"
      }
    },
    {
      "cell_type": "code",
      "source": [
        "recommended_content, recommended_scores = model.recommend(\n",
        "            userid = 0,\n",
        "            user_items=random_history,\n",
        "            N=10,\n",
        "            filter_already_liked_items=True,\n",
        "            recalculate_user=True\n",
        ")\n",
        "id_to_content_df(recommended_content, content_catalog, id_to_item)"
      ],
      "metadata": {
        "colab": {
          "base_uri": "https://localhost:8080/",
          "height": 363
        },
        "id": "VGTeRrVD8I1o",
        "outputId": "5032eac3-941c-4e4f-9cea-3bccbecd2249"
      },
      "execution_count": 13,
      "outputs": [
        {
          "output_type": "execute_result",
          "data": {
            "text/plain": [
              "          item_id                              title\n",
              "1996    777155690                  Холодное сердце 2\n",
              "3335   1387097008                  [4k] Эмоджи фильм\n",
              "6380    454621642                          Один дома\n",
              "6631    600517301                        Зов предков\n",
              "10411  1776502261  Гарри Поттер и философский камень\n",
              "10630   784227936                            Эверест\n",
              "13080  1470124757                              Мулан\n",
              "28796   538560695                        Разговорник\n",
              "30121   231135289                    Гудбай, Америка\n",
              "30208   912402827                    Холодное сердце"
            ],
            "text/html": [
              "\n",
              "  <div id=\"df-726d6f73-18ab-44d0-94ae-d15cf2574932\">\n",
              "    <div class=\"colab-df-container\">\n",
              "      <div>\n",
              "<style scoped>\n",
              "    .dataframe tbody tr th:only-of-type {\n",
              "        vertical-align: middle;\n",
              "    }\n",
              "\n",
              "    .dataframe tbody tr th {\n",
              "        vertical-align: top;\n",
              "    }\n",
              "\n",
              "    .dataframe thead th {\n",
              "        text-align: right;\n",
              "    }\n",
              "</style>\n",
              "<table border=\"1\" class=\"dataframe\">\n",
              "  <thead>\n",
              "    <tr style=\"text-align: right;\">\n",
              "      <th></th>\n",
              "      <th>item_id</th>\n",
              "      <th>title</th>\n",
              "    </tr>\n",
              "  </thead>\n",
              "  <tbody>\n",
              "    <tr>\n",
              "      <th>1996</th>\n",
              "      <td>777155690</td>\n",
              "      <td>Холодное сердце 2</td>\n",
              "    </tr>\n",
              "    <tr>\n",
              "      <th>3335</th>\n",
              "      <td>1387097008</td>\n",
              "      <td>[4k] Эмоджи фильм</td>\n",
              "    </tr>\n",
              "    <tr>\n",
              "      <th>6380</th>\n",
              "      <td>454621642</td>\n",
              "      <td>Один дома</td>\n",
              "    </tr>\n",
              "    <tr>\n",
              "      <th>6631</th>\n",
              "      <td>600517301</td>\n",
              "      <td>Зов предков</td>\n",
              "    </tr>\n",
              "    <tr>\n",
              "      <th>10411</th>\n",
              "      <td>1776502261</td>\n",
              "      <td>Гарри Поттер и философский камень</td>\n",
              "    </tr>\n",
              "    <tr>\n",
              "      <th>10630</th>\n",
              "      <td>784227936</td>\n",
              "      <td>Эверест</td>\n",
              "    </tr>\n",
              "    <tr>\n",
              "      <th>13080</th>\n",
              "      <td>1470124757</td>\n",
              "      <td>Мулан</td>\n",
              "    </tr>\n",
              "    <tr>\n",
              "      <th>28796</th>\n",
              "      <td>538560695</td>\n",
              "      <td>Разговорник</td>\n",
              "    </tr>\n",
              "    <tr>\n",
              "      <th>30121</th>\n",
              "      <td>231135289</td>\n",
              "      <td>Гудбай, Америка</td>\n",
              "    </tr>\n",
              "    <tr>\n",
              "      <th>30208</th>\n",
              "      <td>912402827</td>\n",
              "      <td>Холодное сердце</td>\n",
              "    </tr>\n",
              "  </tbody>\n",
              "</table>\n",
              "</div>\n",
              "      <button class=\"colab-df-convert\" onclick=\"convertToInteractive('df-726d6f73-18ab-44d0-94ae-d15cf2574932')\"\n",
              "              title=\"Convert this dataframe to an interactive table.\"\n",
              "              style=\"display:none;\">\n",
              "        \n",
              "  <svg xmlns=\"http://www.w3.org/2000/svg\" height=\"24px\"viewBox=\"0 0 24 24\"\n",
              "       width=\"24px\">\n",
              "    <path d=\"M0 0h24v24H0V0z\" fill=\"none\"/>\n",
              "    <path d=\"M18.56 5.44l.94 2.06.94-2.06 2.06-.94-2.06-.94-.94-2.06-.94 2.06-2.06.94zm-11 1L8.5 8.5l.94-2.06 2.06-.94-2.06-.94L8.5 2.5l-.94 2.06-2.06.94zm10 10l.94 2.06.94-2.06 2.06-.94-2.06-.94-.94-2.06-.94 2.06-2.06.94z\"/><path d=\"M17.41 7.96l-1.37-1.37c-.4-.4-.92-.59-1.43-.59-.52 0-1.04.2-1.43.59L10.3 9.45l-7.72 7.72c-.78.78-.78 2.05 0 2.83L4 21.41c.39.39.9.59 1.41.59.51 0 1.02-.2 1.41-.59l7.78-7.78 2.81-2.81c.8-.78.8-2.07 0-2.86zM5.41 20L4 18.59l7.72-7.72 1.47 1.35L5.41 20z\"/>\n",
              "  </svg>\n",
              "      </button>\n",
              "      \n",
              "  <style>\n",
              "    .colab-df-container {\n",
              "      display:flex;\n",
              "      flex-wrap:wrap;\n",
              "      gap: 12px;\n",
              "    }\n",
              "\n",
              "    .colab-df-convert {\n",
              "      background-color: #E8F0FE;\n",
              "      border: none;\n",
              "      border-radius: 50%;\n",
              "      cursor: pointer;\n",
              "      display: none;\n",
              "      fill: #1967D2;\n",
              "      height: 32px;\n",
              "      padding: 0 0 0 0;\n",
              "      width: 32px;\n",
              "    }\n",
              "\n",
              "    .colab-df-convert:hover {\n",
              "      background-color: #E2EBFA;\n",
              "      box-shadow: 0px 1px 2px rgba(60, 64, 67, 0.3), 0px 1px 3px 1px rgba(60, 64, 67, 0.15);\n",
              "      fill: #174EA6;\n",
              "    }\n",
              "\n",
              "    [theme=dark] .colab-df-convert {\n",
              "      background-color: #3B4455;\n",
              "      fill: #D2E3FC;\n",
              "    }\n",
              "\n",
              "    [theme=dark] .colab-df-convert:hover {\n",
              "      background-color: #434B5C;\n",
              "      box-shadow: 0px 1px 3px 1px rgba(0, 0, 0, 0.15);\n",
              "      filter: drop-shadow(0px 1px 2px rgba(0, 0, 0, 0.3));\n",
              "      fill: #FFFFFF;\n",
              "    }\n",
              "  </style>\n",
              "\n",
              "      <script>\n",
              "        const buttonEl =\n",
              "          document.querySelector('#df-726d6f73-18ab-44d0-94ae-d15cf2574932 button.colab-df-convert');\n",
              "        buttonEl.style.display =\n",
              "          google.colab.kernel.accessAllowed ? 'block' : 'none';\n",
              "\n",
              "        async function convertToInteractive(key) {\n",
              "          const element = document.querySelector('#df-726d6f73-18ab-44d0-94ae-d15cf2574932');\n",
              "          const dataTable =\n",
              "            await google.colab.kernel.invokeFunction('convertToInteractive',\n",
              "                                                     [key], {});\n",
              "          if (!dataTable) return;\n",
              "\n",
              "          const docLinkHtml = 'Like what you see? Visit the ' +\n",
              "            '<a target=\"_blank\" href=https://colab.research.google.com/notebooks/data_table.ipynb>data table notebook</a>'\n",
              "            + ' to learn more about interactive tables.';\n",
              "          element.innerHTML = '';\n",
              "          dataTable['output_type'] = 'display_data';\n",
              "          await google.colab.output.renderOutput(dataTable, element);\n",
              "          const docLink = document.createElement('div');\n",
              "          docLink.innerHTML = docLinkHtml;\n",
              "          element.appendChild(docLink);\n",
              "        }\n",
              "      </script>\n",
              "    </div>\n",
              "  </div>\n",
              "  "
            ]
          },
          "metadata": {},
          "execution_count": 13
        }
      ]
    },
    {
      "cell_type": "markdown",
      "source": [
        "Готовим валидационный и тестовый сет"
      ],
      "metadata": {
        "id": "InBN8lN5-sSj"
      }
    },
    {
      "cell_type": "code",
      "source": [
        "from typing import Dict\n",
        "from multiprocessing import Pool\n",
        "\n",
        "NUM_PROCESSES = 2\n",
        "\n",
        "def get_als_action_history_vector(item_to_id: Dict[int, int], action_history, binary=True) -> np.ndarray:\n",
        "    \"\"\"Получить историю действий для ALS\n",
        "\n",
        "    :param item_to_id: справочник контента ALS\n",
        "    :return:\n",
        "    \"\"\"\n",
        "    als_action_history_vector = np.zeros(len(item_to_id), dtype=int)\n",
        "    for iid, item_attr in action_history.items():\n",
        "        if iid in item_to_id.keys():\n",
        "            if binary:\n",
        "                als_action_history_vector[item_to_id[iid]] = 1\n",
        "            else:\n",
        "                als_action_history_vector[item_to_id[iid]] = item_attr\n",
        "    return als_action_history_vector\n",
        "\n",
        "def vectorize_action_history(action_history):\n",
        "    res = get_als_action_history_vector(item_to_id, action_history)\n",
        "    return res\n",
        "\n",
        "logger.info('data preparing started...')\n",
        "with Pool(NUM_PROCESSES) as p:\n",
        "    # персональная история просмотров\n",
        "    test_dataset_vectors = p.map(vectorize_action_history, test_dataset)\n",
        "    # валидация\n",
        "    ground_truth_dataset_vectors = p.map(vectorize_action_history, ground_truth_dataset)\n",
        "print('test dataset length: %d', len(test_dataset_vectors))"
      ],
      "metadata": {
        "colab": {
          "base_uri": "https://localhost:8080/"
        },
        "id": "rMUe1_m28XLz",
        "outputId": "f5ac690e-7cc4-424c-e01e-b4c78d36d72f"
      },
      "execution_count": 14,
      "outputs": [
        {
          "output_type": "stream",
          "name": "stdout",
          "text": [
            "test dataset length: %d 13163\n"
          ]
        }
      ]
    },
    {
      "cell_type": "markdown",
      "source": [
        "Объединяем историю пользователя и валидационный сет"
      ],
      "metadata": {
        "id": "rBibSNorJ1Fq"
      }
    },
    {
      "cell_type": "code",
      "source": [
        "train_valid_pairs = []\n",
        "for test_user_id in range(len(test_dataset_vectors)):\n",
        "    train_valid_pairs.append((\n",
        "        csr_matrix(test_dataset_vectors[test_user_id]),  # csr матрица на вход ALS\n",
        "        ground_truth_dataset_vectors[test_user_id].nonzero()[0]\n",
        "    ))\n",
        "print('validation prepared')"
      ],
      "metadata": {
        "colab": {
          "base_uri": "https://localhost:8080/"
        },
        "id": "GKMlpxtLJ8fo",
        "outputId": "6f455de3-295b-4883-e818-b9e34bde9317"
      },
      "execution_count": 15,
      "outputs": [
        {
          "output_type": "stream",
          "name": "stdout",
          "text": [
            "validation prepared\n"
          ]
        }
      ]
    },
    {
      "cell_type": "markdown",
      "source": [
        "## Бейзлайны\n",
        "\n",
        "Рандомные рекомендации"
      ],
      "metadata": {
        "id": "97KgeJ-jJXx6"
      }
    },
    {
      "cell_type": "code",
      "source": [
        "N = 50\n",
        "content_popularity = np.asarray(train_set_csr.sum(axis=0)).reshape(-1)\n",
        "all_content = np.array(list(id_to_item.keys()))\n",
        "\n",
        "def top_n_recommends_random(watch_history):\n",
        "    top_n_result = np.random.choice(all_content, size=N, replace=True)\n",
        "    hit = 0\n",
        "    if len(watch_history[1]) > 0 and np.intersect1d(watch_history[1], top_n_result).size > 0:\n",
        "        hit = 1\n",
        "    return hit\n",
        "\n",
        "with Pool(NUM_PROCESSES) as p:\n",
        "    hits = p.map(top_n_recommends_random, train_valid_pairs)\n",
        "print('Num hits %.4f from %d' % (sum(hits)/len(hits), len(hits)))"
      ],
      "metadata": {
        "colab": {
          "base_uri": "https://localhost:8080/"
        },
        "id": "s3aRgPLp8aK7",
        "outputId": "7ce6f8bb-8622-446d-c803-16db5882cc67"
      },
      "execution_count": 27,
      "outputs": [
        {
          "output_type": "stream",
          "name": "stdout",
          "text": [
            "Num hits 0.0093 from 13163\n"
          ]
        }
      ]
    },
    {
      "cell_type": "markdown",
      "source": [
        "Если делать предсказания рандомно, угадываем всего в 1% случаев\n",
        "\n",
        "# Неперсональные рекомендации: популярность\n",
        "\n",
        "Что будет, если рекомендовать популярный контент (всем один и тот же список)"
      ],
      "metadata": {
        "id": "y243iPNRL-Bh"
      }
    },
    {
      "cell_type": "code",
      "source": [
        "N = 40\n",
        "content_popularity = np.asarray(train_set_csr.sum(axis=0)).reshape(-1)\n",
        "top_100_popular_items = np.argsort(-content_popularity)[:100]\n",
        "\n",
        "def top_n_recommends_popular(watch_history):\n",
        "    top_n_result = top_100_popular_items[:N]\n",
        "    hit = 0\n",
        "    if len(watch_history[1]) > 0 and np.intersect1d(watch_history[1], top_n_result).size > 0:\n",
        "        hit = 1\n",
        "    return hit\n",
        "\n",
        "with Pool(5) as p:\n",
        "    hits = p.map(top_n_recommends_popular, train_valid_pairs)\n",
        "\n",
        "print('Num hits %.4f from %d' % (sum(hits)/len(hits), len(hits)))"
      ],
      "metadata": {
        "colab": {
          "base_uri": "https://localhost:8080/"
        },
        "id": "s-dmOUGXLGPv",
        "outputId": "1ee14813-a41f-4119-cca8-29ee622b7e1c"
      },
      "execution_count": 17,
      "outputs": [
        {
          "output_type": "stream",
          "name": "stdout",
          "text": [
            "Num hits 0.1844 from 13163\n"
          ]
        }
      ]
    },
    {
      "cell_type": "markdown",
      "source": [
        "Видим рост качества, популярность - мощный бейзлайн\n",
        "\n",
        "## Персональные рекомедации\n",
        "\n",
        "Наконец, воспользуемся ALS. Обучим модель"
      ],
      "metadata": {
        "id": "ebocSko3M0Dp"
      }
    },
    {
      "cell_type": "code",
      "source": [
        "implict_als_params = {'factors': 20, 'iterations': 30}\n",
        "model = AlternatingLeastSquares(**implict_als_params)\n",
        "print('train started')\n",
        "model.fit(train_set_csr)\n",
        "print('train finished')"
      ],
      "metadata": {
        "colab": {
          "base_uri": "https://localhost:8080/",
          "height": 85,
          "referenced_widgets": [
            "6d3eab38b10146409ae65e593dfb7567",
            "5a4274e713a74306a87c6e223151d830",
            "231a26f1a30e4938a941be3ca3dd37d6",
            "1d596b51612248c494c0be38e7ed1ef4",
            "722f4b85290f4432b789348fde19f848",
            "3472bfcb41ad465d977c8db79cd0ee69",
            "b2f815d0d3ab48688cb105109d61eaf2",
            "090005c9b5f34573933893aeaa3139bd",
            "b6ec0492cd0949bc87c8e624b037636d",
            "177cd5450dd4437d90ea198ef58c553c",
            "6f8e0e5c38e04c0989c85086343baad4"
          ]
        },
        "id": "H21ZcUaWMy8D",
        "outputId": "9fefd61a-067d-47ca-86db-896a0fc000fe"
      },
      "execution_count": 18,
      "outputs": [
        {
          "output_type": "stream",
          "name": "stdout",
          "text": [
            "train started\n"
          ]
        },
        {
          "output_type": "display_data",
          "data": {
            "text/plain": [
              "  0%|          | 0/30 [00:00<?, ?it/s]"
            ],
            "application/vnd.jupyter.widget-view+json": {
              "version_major": 2,
              "version_minor": 0,
              "model_id": "6d3eab38b10146409ae65e593dfb7567"
            }
          },
          "metadata": {}
        },
        {
          "output_type": "stream",
          "name": "stdout",
          "text": [
            "train finished\n"
          ]
        }
      ]
    },
    {
      "cell_type": "markdown",
      "source": [
        "Персональные рекомендации"
      ],
      "metadata": {
        "id": "adyh38ViNVtf"
      }
    },
    {
      "cell_type": "code",
      "source": [
        "from tqdm import tqdm\n",
        "\n",
        "N = 50\n",
        "testing_model = model\n",
        "\n",
        "def top_n_recommends_personal(watch_history):\n",
        "    top_n_result, recommended_scores = testing_model.recommend(\n",
        "            userid = 0,\n",
        "            user_items=watch_history[0],\n",
        "            N=N,\n",
        "            filter_already_liked_items=True,\n",
        "            recalculate_user=True\n",
        "    )\n",
        "    hit = 0\n",
        "    if len(watch_history[1]) > 0 and np.intersect1d(watch_history[1], top_n_result).size > 0:\n",
        "        hit = 1\n",
        "    return hit\n",
        "\n",
        "NUM_PROCESSES = 2\n",
        "print('Prediction started')\n",
        "# with Pool(NUM_PROCESSES) as p:\n",
        "#     hits = p.map(top_n_recommends_personal, train_valid_pairs[:10])\n",
        "hits = [top_n_recommends_personal(i) for i in train_valid_pairs]\n",
        "print('Num hits %.4f from %d' % (sum(hits)/len(hits), len(hits)))"
      ],
      "metadata": {
        "colab": {
          "base_uri": "https://localhost:8080/"
        },
        "id": "vRhiVVjQNU3D",
        "outputId": "76ca55fc-dce8-455b-b214-26aba4fd7dbb"
      },
      "execution_count": 19,
      "outputs": [
        {
          "output_type": "stream",
          "name": "stdout",
          "text": [
            "Prediction started\n",
            "Num hits 0.2579 from 13163\n"
          ]
        }
      ]
    },
    {
      "cell_type": "code",
      "source": [
        "testing_model.item_factors.shape"
      ],
      "metadata": {
        "colab": {
          "base_uri": "https://localhost:8080/"
        },
        "id": "BBsVI0SJJyvO",
        "outputId": "dd357933-3900-4267-ba47-26f9679c1333"
      },
      "execution_count": 20,
      "outputs": [
        {
          "output_type": "execute_result",
          "data": {
            "text/plain": [
              "(9991, 20)"
            ]
          },
          "metadata": {},
          "execution_count": 20
        }
      ]
    },
    {
      "cell_type": "code",
      "source": [
        "testing_model.user_factors.shape"
      ],
      "metadata": {
        "id": "fb8BQus-J_mZ",
        "outputId": "3e9c19c8-87a1-4fba-80e7-f31dbabc099e",
        "colab": {
          "base_uri": "https://localhost:8080/"
        }
      },
      "execution_count": 21,
      "outputs": [
        {
          "output_type": "execute_result",
          "data": {
            "text/plain": [
              "(168756, 20)"
            ]
          },
          "metadata": {},
          "execution_count": 21
        }
      ]
    },
    {
      "cell_type": "code",
      "source": [
        "from numpy import save, load\n",
        "\n",
        "item_factors_file_path = os.path.join(recsys_dir, 'item_factors.zip')\n",
        "\n",
        "# save(item_factors_file_path, testing_model.item_factors)\n",
        "# logger.info('saved to %s', item_factors_file_path)\n",
        "\n",
        "# item_factors = load(item_factors_file_path)\n",
        "# logger.info('saved to %s', item_factors_file_path)"
      ],
      "metadata": {
        "id": "6RO1kobINLBs"
      },
      "execution_count": 22,
      "outputs": []
    },
    {
      "cell_type": "markdown",
      "source": [
        "Чтобы как-то проверить качество полученных эмбеддингов, визуализируем их с помощью UMAP"
      ],
      "metadata": {
        "id": "5xt8-02636jZ"
      }
    },
    {
      "cell_type": "code",
      "source": [
        "!pip install umap-learn\n",
        "clear_output()"
      ],
      "metadata": {
        "id": "zYkdTnjXIKii"
      },
      "execution_count": 23,
      "outputs": []
    },
    {
      "cell_type": "code",
      "source": [
        "\n",
        "\n",
        "from umap import UMAP\n",
        "\n",
        "print('umap started...')\n",
        "manifold = UMAP(random_state=RANDOM_SEED, n_components=2).fit(testing_model.item_factors)\n",
        "X_umap = manifold.transform(testing_model.item_factors)\n",
        "print('umap finished...')"
      ],
      "metadata": {
        "colab": {
          "base_uri": "https://localhost:8080/"
        },
        "id": "XQDDffYNgC0H",
        "outputId": "1a186e3b-088f-42bd-c21f-d019d37d3188"
      },
      "execution_count": 24,
      "outputs": [
        {
          "output_type": "stream",
          "name": "stdout",
          "text": [
            "umap started...\n",
            "umap finished...\n"
          ]
        }
      ]
    },
    {
      "cell_type": "markdown",
      "source": [
        "К сожалению, визуально кластера не отделяются"
      ],
      "metadata": {
        "id": "VR3F13i8BCvy"
      }
    },
    {
      "cell_type": "code",
      "source": [
        "from matplotlib import pyplot as plt\n",
        "\n",
        "plt.scatter(X_umap[:,0], X_umap[:,1], s=10, alpha=0.05)\n",
        "plt.show()"
      ],
      "metadata": {
        "colab": {
          "base_uri": "https://localhost:8080/",
          "height": 265
        },
        "id": "1phBAD-O5h2n",
        "outputId": "4fffad07-f42a-4534-b22c-d3fb6feb50d7"
      },
      "execution_count": 25,
      "outputs": [
        {
          "output_type": "display_data",
          "data": {
            "text/plain": [
              "<Figure size 432x288 with 1 Axes>"
            ],
            "image/png": "[encoded data removed]"
          },
          "metadata": {
            "needs_background": "light"
          }
        }
      ]
    },
    {
      "cell_type": "markdown",
      "source": [
        "Попробуем прогнать через DBSCAN"
      ],
      "metadata": {
        "id": "esm5by96BKxZ"
      }
    },
    {
      "cell_type": "code",
      "source": [
        "from sklearn.cluster import DBSCAN\n",
        "\n",
        "clustering = DBSCAN(eps=0.15, min_samples=5, leaf_size=10).fit(X_umap)\n",
        "logger.info('Число кластеров: %d', len(np.unique(clustering.labels_)))\n",
        "plt.scatter(X_umap[:,0], X_umap[:,1], s=10, alpha=0.05, c=clustering.labels_)\n",
        "plt.show()"
      ],
      "metadata": {
        "colab": {
          "base_uri": "https://localhost:8080/",
          "height": 265
        },
        "id": "TZ-0Qm--7IqU",
        "outputId": "8d923b51-6def-4c7a-b2e7-7a6bef5d95c3"
      },
      "execution_count": 26,
      "outputs": [
        {
          "output_type": "display_data",
          "data": {
            "text/plain": [
              "<Figure size 432x288 with 1 Axes>"
            ],
            "image/png": "[encoded data removed]"
          },
          "metadata": {
            "needs_background": "light"
          }
        }
      ]
    },
    {
      "cell_type": "markdown",
      "source": [
        "Особо ничего не вышло(\n",
        "\n",
        "# Итог\n",
        "\n",
        "* построили две модели: персональную и неперсональную\n",
        "* применили техники снижения резмерности"
      ],
      "metadata": {
        "id": "JAUBLddBEJs5"
      }
    },
    {
      "cell_type": "code",
      "source": [],
      "metadata": {
        "id": "vZO0k6Sz_QA5"
      },
      "execution_count": 26,
      "outputs": []
    }
  ]
}